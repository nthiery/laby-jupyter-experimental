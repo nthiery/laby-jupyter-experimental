{
 "cells": [
  {
   "cell_type": "markdown",
   "metadata": {
    "slideshow": {
     "slide_type": "slide"
    }
   },
   "source": [
    "# XWIDGETS DOCUMENTATION\n",
    "(en construction)"
   ]
  },
  {
   "cell_type": "markdown",
   "metadata": {
    "slideshow": {
     "slide_type": "fragment"
    }
   },
   "source": [
    "## Sommaire\n",
    "\n",
    "1 - Sliders<br>\n",
    "2 - Progress Bar<br>\n",
    "3 - xHTML widget"
   ]
  },
  {
   "cell_type": "code",
   "execution_count": null,
   "metadata": {},
   "outputs": [],
   "source": []
  },
  {
   "cell_type": "markdown",
   "metadata": {
    "slideshow": {
     "slide_type": "slide"
    }
   },
   "source": [
    "# SLIDER - Cursor bar\n",
    "\n",
    "## Intro\n",
    "\n",
    "Commandes pour : <br>\n",
    "- Inclure la librairie des sliders\n",
    "- Déclarer (créer) un slider nommé slider_name\n",
    "- L'afficher"
   ]
  },
  {
   "cell_type": "code",
   "execution_count": null,
   "metadata": {
    "slideshow": {
     "slide_type": "fragment"
    }
   },
   "outputs": [],
   "source": [
    "#include \"xwidgets/xslider.hpp\"\n",
    "xw::slider<double> slider_name;"
   ]
  },
  {
   "cell_type": "code",
   "execution_count": 1,
   "metadata": {},
   "outputs": [],
   "source": [
    "#include \"xwidgets/xslider.hpp\""
   ]
  },
  {
   "cell_type": "markdown",
   "metadata": {
    "slideshow": {
     "slide_type": "subslide"
    }
   },
   "source": [
    "## Valeurs\n",
    "\n",
    "Commandes pour :\n",
    "- Définir la valeur du slider (exemple : 60)\n",
    "- Récupérer la valeur\n",
    "- Définir la valeur max (=échelle) (exemple : 150)"
   ]
  },
  {
   "cell_type": "code",
   "execution_count": null,
   "metadata": {
    "slideshow": {
     "slide_type": "fragment"
    }
   },
   "outputs": [],
   "source": [
    "slider_name.value = 60;\n",
    "slider_name.value()\n",
    "slider_name.max = 150;"
   ]
  },
  {
   "cell_type": "markdown",
   "metadata": {
    "slideshow": {
     "slide_type": "subslide"
    }
   },
   "source": [
    "## Apparence\n",
    "\n",
    "Commandes pour :\n",
    "-Changer la couleur du bouton\n",
    "- Mettre le curseur horizontal ou vertical\n",
    "- Ajouter une descrition/nom au slider"
   ]
  },
  {
   "cell_type": "code",
   "execution_count": null,
   "metadata": {
    "slideshow": {
     "slide_type": "fragment"
    }
   },
   "outputs": [],
   "source": [
    "slider.style().handle_color = \"red\";\n",
    "slider.orientation = \"horizontal\";\n",
    "slider.description = \"A slider\";"
   ]
  },
  {
   "cell_type": "markdown",
   "metadata": {
    "slideshow": {
     "slide_type": "slide"
    }
   },
   "source": [
    "# PROGRESS - Progression bar\n",
    "\n",
    "## Intro\n",
    "\n",
    "Commandes pour : <br>\n",
    "- Inclure la librairie des Progress\n",
    "- Déclarer (créer) un Progress nommé progress_name\n",
    "- L'afficher"
   ]
  },
  {
   "cell_type": "code",
   "execution_count": 3,
   "metadata": {
    "slideshow": {
     "slide_type": "fragment"
    }
   },
   "outputs": [
    {
     "name": "stderr",
     "output_type": "stream",
     "text": [
      "In file included from input_line_9:1:\n",
      "In file included from C:\\Users\\donov\\Miniconda3\\envs\\laby-jupyter\\Library\\include\\xwidgets/xprogress.hpp:19:\n",
      "In file included from C:\\Users\\donov\\Miniconda3\\envs\\laby-jupyter\\Library\\include\\xwidgets/xnumber.hpp:12:\n",
      "In file included from C:\\Users\\donov\\Miniconda3\\envs\\laby-jupyter\\Library\\include\\xwidgets/xwidget.hpp:14:\n",
      "In file included from C:\\Users\\donov\\Miniconda3\\envs\\laby-jupyter\\Library\\include\\xwidgets/xlayout.hpp:16:\n",
      "In file included from C:\\Users\\donov\\Miniconda3\\envs\\laby-jupyter\\Library\\include\\xwidgets/xobject.hpp:20:\n",
      "C:\\Users\\donov\\Miniconda3\\envs\\laby-jupyter\\Library\\include\\xwidgets/xtransport.hpp:45:32: error: no matching member function for call to 'at'\n",
      "            version = metadata.at(\"version\").get<std::string>();\n",
      "                      ~~~~~~~~~^~\n",
      "C:\\Users\\donov\\Miniconda3\\envs\\laby-jupyter\\Library\\include\\xeus/nl_json.hpp:10026:21: note: candidate function not viable: no known conversion from 'const char [8]' to 'nlohmann::basic_json::size_type'\n",
      "      (aka 'unsigned long long') for 1st argument\n",
      "    const_reference at(size_type idx) const\n",
      "                    ^\n",
      "C:\\Users\\donov\\Miniconda3\\envs\\laby-jupyter\\Library\\include\\xeus/nl_json.hpp:10077:15: note: candidate function not viable: 'this' argument has type 'const xeus::xjson' (aka 'const basic_json<>'), but method is\n",
      "      not marked const\n",
      "    reference at(const typename object_t::key_type& key)\n",
      "              ^\n",
      "C:\\Users\\donov\\Miniconda3\\envs\\laby-jupyter\\Library\\include\\xeus/nl_json.hpp:13802:21: note: candidate function not viable: no known conversion from 'const char [8]' to 'const nlohmann::basic_json::json_pointer'\n",
      "      (aka 'const nlohmann::json_pointer') for 1st argument\n",
      "    const_reference at(const json_pointer& ptr) const\n",
      "                    ^\n",
      "C:\\Users\\donov\\Miniconda3\\envs\\laby-jupyter\\Library\\include\\xeus/nl_json.hpp:9979:15: note: candidate function not viable: 'this' argument has type 'const xeus::xjson' (aka 'const basic_json<>'), but method is\n",
      "      not marked const\n",
      "    reference at(size_type idx)\n",
      "              ^\n",
      "C:\\Users\\donov\\Miniconda3\\envs\\laby-jupyter\\Library\\include\\xeus/nl_json.hpp:13759:15: note: candidate function not viable: 'this' argument has type 'const xeus::xjson' (aka 'const basic_json<>'), but method is\n",
      "      not marked const\n",
      "    reference at(const json_pointer& ptr)\n",
      "              ^\n",
      "In file included from input_line_9:1:\n",
      "In file included from C:\\Users\\donov\\Miniconda3\\envs\\laby-jupyter\\Library\\include\\xwidgets/xprogress.hpp:19:\n",
      "In file included from C:\\Users\\donov\\Miniconda3\\envs\\laby-jupyter\\Library\\include\\xwidgets/xnumber.hpp:12:\n",
      "In file included from C:\\Users\\donov\\Miniconda3\\envs\\laby-jupyter\\Library\\include\\xwidgets/xwidget.hpp:14:\n",
      "In file included from C:\\Users\\donov\\Miniconda3\\envs\\laby-jupyter\\Library\\include\\xwidgets/xlayout.hpp:16:\n",
      "In file included from C:\\Users\\donov\\Miniconda3\\envs\\laby-jupyter\\Library\\include\\xwidgets/xobject.hpp:20:\n",
      "C:\\Users\\donov\\Miniconda3\\envs\\laby-jupyter\\Library\\include\\xwidgets/xtransport.hpp:45:61: error: expected '(' for function-style cast or type construction\n",
      "            version = metadata.at(\"version\").get<std::string>();\n",
      "                                                 ~~~~~~~~~~~^\n",
      "C:\\Users\\donov\\Miniconda3\\envs\\laby-jupyter\\Library\\include\\xwidgets/xtransport.hpp:45:63: error: expected expression\n",
      "            version = metadata.at(\"version\").get<std::string>();\n",
      "                                                              ^\n",
      "In file included from input_line_9:1:\n",
      "In file included from C:\\Users\\donov\\Miniconda3\\envs\\laby-jupyter\\Library\\include\\xwidgets/xprogress.hpp:19:\n",
      "C:\\Users\\donov\\Miniconda3\\envs\\laby-jupyter\\Library\\include\\xwidgets/xnumber.hpp:62:9: error: too few arguments provided to function-like macro invocation\n",
      "        XOBJECT_SET_PATCH_FROM_PROPERTY(min, state);\n",
      "        ^\n",
      "C:\\Users\\donov\\Miniconda3\\envs\\laby-jupyter\\Library\\include\\xwidgets/xobject.hpp:105:31: note: expanded from macro 'XOBJECT_SET_PATCH_FROM_PROPERTY'\n",
      "    patch[#name] = this->name();\n",
      "                              ^\n",
      "C:\\Program Files (x86)\\Windows Kits\\10\\include\\10.0.14393.0\\shared\\minwindef.h:197:9: note: macro 'min' defined here\n",
      "#define min(a,b)            (((a) < (b)) ? (a) : (b))\n",
      "        ^\n",
      "In file included from input_line_9:1:\n",
      "In file included from C:\\Users\\donov\\Miniconda3\\envs\\laby-jupyter\\Library\\include\\xwidgets/xprogress.hpp:19:\n",
      "C:\\Users\\donov\\Miniconda3\\envs\\laby-jupyter\\Library\\include\\xwidgets/xnumber.hpp:63:9: error: too few arguments provided to function-like macro invocation\n",
      "        XOBJECT_SET_PATCH_FROM_PROPERTY(max, state);\n",
      "        ^\n",
      "C:\\Users\\donov\\Miniconda3\\envs\\laby-jupyter\\Library\\include\\xwidgets/xobject.hpp:105:31: note: expanded from macro 'XOBJECT_SET_PATCH_FROM_PROPERTY'\n",
      "    patch[#name] = this->name();\n",
      "                              ^\n",
      "C:\\Program Files (x86)\\Windows Kits\\10\\include\\10.0.14393.0\\shared\\minwindef.h:193:9: note: macro 'max' defined here\n",
      "#define max(a,b)            (((a) > (b)) ? (a) : (b))\n",
      "        ^\n",
      "In file included from input_line_5:1:\n",
      "In file included from C:\\Users\\donov\\Miniconda3\\envs\\laby-jupyter\\Library\\include\\xeus/xinterpreter.hpp:16:\n",
      "In file included from C:\\Users\\donov\\Miniconda3\\envs\\laby-jupyter\\Library\\include\\xeus/xcomm.hpp:18:\n",
      "In file included from C:\\Users\\donov\\Miniconda3\\envs\\laby-jupyter\\Library\\include\\xeus/xmessage.hpp:14:\n",
      "In file included from C:\\Users\\donov\\Miniconda3\\envs\\laby-jupyter\\Library\\include\\xeus/xjson.hpp:14:\n",
      "C:\\Users\\donov\\Miniconda3\\envs\\laby-jupyter\\Library\\include\\xeus/nl_json.hpp:1105:29: error: no member named 'is_string' in 'nlohmann::basic_json<std::map, std::vector, std::basic_string<char,\n",
      "      std::char_traits<char>, std::allocator<char> >, bool, long long, unsigned long long, double, std::allocator,\n",
      "      adl_serializer>'\n",
      "    if (JSON_UNLIKELY(not j.is_string()))\n",
      "                          ~ ^\n",
      "C:\\Users\\donov\\Miniconda3\\envs\\laby-jupyter\\Library\\include\\xeus/nl_json.hpp:106:53: note: expanded from macro 'JSON_UNLIKELY'\n",
      "    #define JSON_UNLIKELY(x)    __builtin_expect(!!(x), 0)\n",
      "                                                    ^\n",
      "C:\\Users\\donov\\Miniconda3\\envs\\laby-jupyter\\Library\\include\\xeus/nl_json.hpp:1354:16: note: in instantiation of function template specialization 'nlohmann::detail::from_json<nlohmann::basic_json<std::map,\n",
      "      std::vector, std::basic_string<char, std::char_traits<char>, std::allocator<char> >, bool, long long, unsigned\n",
      "      long long, double, std::allocator, adl_serializer> >' requested here\n",
      "        return from_json(j, val);\n",
      "               ^\n",
      "C:\\Users\\donov\\Miniconda3\\envs\\laby-jupyter\\Library\\include\\xeus/nl_json.hpp:1375:16: note: in instantiation of function template specialization\n",
      "      'nlohmann::detail::from_json_fn::call<nlohmann::basic_json<std::map, std::vector, std::basic_string<char,\n",
      "      std::char_traits<char>, std::allocator<char> >, bool, long long, unsigned long long, double, std::allocator,\n",
      "      adl_serializer>, std::basic_string<char, std::char_traits<char>, std::allocator<char> > >' requested here\n",
      "        return call(j, val, priority_tag<1> {});\n",
      "               ^\n",
      "C:\\Users\\donov\\Miniconda3\\envs\\laby-jupyter\\Library\\include\\xeus/nl_json.hpp:6923:9: note: in instantiation of function template specialization\n",
      "      'nlohmann::detail::from_json_fn::operator()<nlohmann::basic_json<std::map, std::vector, std::basic_string<char,\n",
      "      std::char_traits<char>, std::allocator<char> >, bool, long long, unsigned long long, double, std::allocator,\n",
      "      adl_serializer>, std::basic_string<char, std::char_traits<char>, std::allocator<char> > >' requested here\n",
      "        ::nlohmann::from_json(std::forward<BasicJsonType>(j), val);\n",
      "        ^\n",
      "C:\\Users\\donov\\Miniconda3\\envs\\laby-jupyter\\Library\\include\\xeus/nl_json.hpp:9678:36: note: in instantiation of function template specialization 'nlohmann::adl_serializer<std::basic_string<char,\n",
      "      std::char_traits<char>, std::allocator<char> >, void>::from_json<const nlohmann::basic_json<std::map, std::vector,\n",
      "      std::basic_string<char, std::char_traits<char>, std::allocator<char> >, bool, long long, unsigned long long,\n",
      "      double, std::allocator, adl_serializer> &, std::basic_string<char, std::char_traits<char>, std::allocator<char> >\n",
      "      >' requested here\n",
      "        JSONSerializer<ValueType>::from_json(*this, ret);\n",
      "                                   ^\n",
      "C:\\Users\\donov\\Miniconda3\\envs\\laby-jupyter\\Library\\include\\xeus/nl_json.hpp:9939:16: note: in instantiation of function template specialization 'nlohmann::basic_json<std::map, std::vector,\n",
      "      std::basic_string<char, std::char_traits<char>, std::allocator<char> >, bool, long long, unsigned long long,\n",
      "      double, std::allocator, adl_serializer>::get<std::basic_string<char, std::char_traits<char>, std::allocator<char>\n",
      "      >, std::basic_string<char, std::char_traits<char>, std::allocator<char> >, 0>' requested here\n",
      "        return get<ValueType>();\n",
      "               ^\n",
      "C:\\Users\\donov\\Miniconda3\\envs\\laby-jupyter\\Library\\include\\xwidgets/xfactory.hpp:63:36: note: in instantiation of function template specialization 'nlohmann::basic_json<std::map, std::vector,\n",
      "      std::basic_string<char, std::char_traits<char>, std::allocator<char> >, bool, long long, unsigned long long,\n",
      "      double, std::allocator, adl_serializer>::operator basic_string<std::basic_string<char, std::char_traits<char>,\n",
      "      std::allocator<char> >, 0>' requested here\n",
      "        std::string model_module = state[\"_model_module\"];\n",
      "                                   ^\n",
      "In file included from input_line_5:1:\n",
      "In file included from C:\\Users\\donov\\Miniconda3\\envs\\laby-jupyter\\Library\\include\\xeus/xinterpreter.hpp:16:\n",
      "In file included from C:\\Users\\donov\\Miniconda3\\envs\\laby-jupyter\\Library\\include\\xeus/xcomm.hpp:17:\n",
      "In file included from C:\\Users\\donov\\Miniconda3\\envs\\laby-jupyter\\Library\\include\\xeus/xguid.hpp:17:\n",
      "C:\\Users\\donov\\Miniconda3\\envs\\laby-jupyter\\Library\\include\\xtl/xbasic_fixed_string.hpp:522:42: error: no member named 'data' in 'xtl::xbasic_fixed_string<char, 55, string_policy::silent_error, std::char_traits<char> >'\n",
      "            return ::xtl::hash_bytes(arg.data(), arg.size(), static_cast<std::size_t>(0xc70f6907UL));\n",
      "                                     ~~~ ^\n",
      "C:\\Program Files (x86)\\Microsoft Visual Studio 14.0\\VC\\include\\xhash:114:19: note: in instantiation of member function 'std::hash<xtl::xbasic_fixed_string<char, 55, string_policy::silent_error,\n",
      "      std::char_traits<char> > >::operator()' requested here\n",
      "                return ((size_t)_Gethash()(_Keyval));\n",
      "                                ^\n",
      "C:\\Program Files (x86)\\Microsoft Visual Studio 14.0\\VC\\include\\xhash:859:11: note: in instantiation of member function 'std::_Uhash_compare<xtl::xbasic_fixed_string<char, 55, string_policy::silent_error,\n",
      "      std::char_traits<char> >, std::hash<xtl::xbasic_fixed_string<char, 55, string_policy::silent_error,\n",
      "      std::char_traits<char> > >, std::equal_to<xtl::xbasic_fixed_string<char, 55, string_policy::silent_error,\n",
      "      std::char_traits<char> > > >::operator()' requested here\n",
      "                return (_Traitsobj(_Keyval) & _Mask);\n",
      "                        ^\n",
      "C:\\Program Files (x86)\\Microsoft Visual Studio 14.0\\VC\\include\\xhash:637:23: note: in instantiation of member function 'std::_Hash<std::_Umap_traits<xtl::xbasic_fixed_string<char, 55,\n",
      "      string_policy::silent_error, std::char_traits<char> >, xw::xholder<xtransport>,\n",
      "      std::_Uhash_compare<xtl::xbasic_fixed_string<char, 55, string_policy::silent_error, std::char_traits<char> >,\n",
      "      std::hash<xtl::xbasic_fixed_string<char, 55, string_policy::silent_error, std::char_traits<char> > >,\n",
      "      std::equal_to<xtl::xbasic_fixed_string<char, 55, string_policy::silent_error, std::char_traits<char> > > >,\n",
      "      std::allocator<std::pair<const xtl::xbasic_fixed_string<char, 55, string_policy::silent_error,\n",
      "      std::char_traits<char> >, xw::xholder<xtransport> > >, false> >::_Hashval' requested here\n",
      "                size_type _Bucket = _Hashval(_Keyval);\n",
      "                                    ^\n",
      "C:\\Program Files (x86)\\Microsoft Visual Studio 14.0\\VC\\include\\xhash:563:20: note: in instantiation of member function 'std::_Hash<std::_Umap_traits<xtl::xbasic_fixed_string<char, 55,\n",
      "      string_policy::silent_error, std::char_traits<char> >, xw::xholder<xtransport>,\n",
      "      std::_Uhash_compare<xtl::xbasic_fixed_string<char, 55, string_policy::silent_error, std::char_traits<char> >,\n",
      "      std::hash<xtl::xbasic_fixed_string<char, 55, string_policy::silent_error, std::char_traits<char> > >,\n",
      "      std::equal_to<xtl::xbasic_fixed_string<char, 55, string_policy::silent_error, std::char_traits<char> > > >,\n",
      "      std::allocator<std::pair<const xtl::xbasic_fixed_string<char, 55, string_policy::silent_error,\n",
      "      std::char_traits<char> >, xw::xholder<xtransport> > >, false> >::equal_range' requested here\n",
      "                _Pairii _Where = equal_range(_Keyval);\n",
      "                                 ^\n",
      "C:\\Users\\donov\\Miniconda3\\envs\\laby-jupyter\\Library\\include\\xwidgets/xholder.hpp:469:19: note: in instantiation of member function 'std::_Hash<std::_Umap_traits<xtl::xbasic_fixed_string<char, 55,\n",
      "      string_policy::silent_error, std::char_traits<char> >, xw::xholder<xtransport>,\n",
      "      std::_Uhash_compare<xtl::xbasic_fixed_string<char, 55, string_policy::silent_error, std::char_traits<char> >,\n",
      "      std::hash<xtl::xbasic_fixed_string<char, 55, string_policy::silent_error, std::char_traits<char> > >,\n",
      "      std::equal_to<xtl::xbasic_fixed_string<char, 55, string_policy::silent_error, std::char_traits<char> > > >,\n",
      "      std::allocator<std::pair<const xtl::xbasic_fixed_string<char, 55, string_policy::silent_error,\n",
      "      std::char_traits<char> >, xw::xholder<xtransport> > >, false> >::erase' requested here\n",
      "        m_storage.erase(id);\n",
      "                  ^\n",
      "In file included from input_line_5:1:\n",
      "In file included from C:\\Users\\donov\\Miniconda3\\envs\\laby-jupyter\\Library\\include\\xeus/xinterpreter.hpp:16:\n",
      "In file included from C:\\Users\\donov\\Miniconda3\\envs\\laby-jupyter\\Library\\include\\xeus/xcomm.hpp:17:\n",
      "In file included from C:\\Users\\donov\\Miniconda3\\envs\\laby-jupyter\\Library\\include\\xeus/xguid.hpp:17:\n",
      "C:\\Users\\donov\\Miniconda3\\envs\\laby-jupyter\\Library\\include\\xtl/xbasic_fixed_string.hpp:1972:20: error: no matching member function for call to 'compare'\n",
      "        return lhs.compare(rhs) == 0;\n",
      "               ~~~~^~~~~~~\n",
      "C:\\Program Files (x86)\\Microsoft Visual Studio 14.0\\VC\\include\\xstddef:225:17: note: in instantiation of function template specialization 'xtl::operator==<char, 55, silent_error, std::char_traits<char> >'\n",
      "      requested here\n",
      "                return (_Left == _Right);\n",
      "                              ^\n",
      "C:\\Program Files (x86)\\Microsoft Visual Studio 14.0\\VC\\include\\xhash:640:9: note: in instantiation of member function 'std::_Uhash_compare<xtl::xbasic_fixed_string<char, 55, string_policy::silent_error,\n",
      "      std::char_traits<char> >, std::hash<xtl::xbasic_fixed_string<char, 55, string_policy::silent_error,\n",
      "      std::char_traits<char> > >, std::equal_to<xtl::xbasic_fixed_string<char, 55, string_policy::silent_error,\n",
      "      std::char_traits<char> > > >::operator()' requested here\n",
      "                        if (!_Traitsobj(_Traits::_Kfn(*_Where), _Keyval))\n",
      "                             ^\n",
      "C:\\Program Files (x86)\\Microsoft Visual Studio 14.0\\VC\\include\\xhash:563:20: note: in instantiation of member function 'std::_Hash<std::_Umap_traits<xtl::xbasic_fixed_string<char, 55,\n",
      "      string_policy::silent_error, std::char_traits<char> >, xw::xholder<xtransport>,\n",
      "      std::_Uhash_compare<xtl::xbasic_fixed_string<char, 55, string_policy::silent_error, std::char_traits<char> >,\n",
      "      std::hash<xtl::xbasic_fixed_string<char, 55, string_policy::silent_error, std::char_traits<char> > >,\n",
      "      std::equal_to<xtl::xbasic_fixed_string<char, 55, string_policy::silent_error, std::char_traits<char> > > >,\n",
      "      std::allocator<std::pair<const xtl::xbasic_fixed_string<char, 55, string_policy::silent_error,\n",
      "      std::char_traits<char> >, xw::xholder<xtransport> > >, false> >::equal_range' requested here\n",
      "                _Pairii _Where = equal_range(_Keyval);\n",
      "                                 ^\n"
     ]
    },
    {
     "name": "stderr",
     "output_type": "stream",
     "text": [
      "C:\\Users\\donov\\Miniconda3\\envs\\laby-jupyter\\Library\\include\\xwidgets/xholder.hpp:469:19: note: in instantiation of member function 'std::_Hash<std::_Umap_traits<xtl::xbasic_fixed_string<char, 55,\n",
      "      string_policy::silent_error, std::char_traits<char> >, xw::xholder<xtransport>,\n",
      "      std::_Uhash_compare<xtl::xbasic_fixed_string<char, 55, string_policy::silent_error, std::char_traits<char> >,\n",
      "      std::hash<xtl::xbasic_fixed_string<char, 55, string_policy::silent_error, std::char_traits<char> > >,\n",
      "      std::equal_to<xtl::xbasic_fixed_string<char, 55, string_policy::silent_error, std::char_traits<char> > > >,\n",
      "      std::allocator<std::pair<const xtl::xbasic_fixed_string<char, 55, string_policy::silent_error,\n",
      "      std::char_traits<char> >, xw::xholder<xtransport> > >, false> >::erase' requested here\n",
      "        m_storage.erase(id);\n",
      "                  ^\n",
      "C:\\Users\\donov\\Miniconda3\\envs\\laby-jupyter\\Library\\include\\xtl/xbasic_fixed_string.hpp:204:13: note: candidate function not viable: no known conversion from 'const xbasic_fixed_string<char, 55ULL, silent_error,\n",
      "      std::char_traits<char> >' to 'xtl::xbasic_fixed_string<char, 55, string_policy::silent_error,\n",
      "      std::char_traits<char> >::const_pointer' (aka 'const char *') for 1st argument\n",
      "        int compare(const_pointer s) const noexcept;\n",
      "            ^\n",
      "C:\\Users\\donov\\Miniconda3\\envs\\laby-jupyter\\Library\\include\\xtl/xbasic_fixed_string.hpp:197:13: note: candidate function not viable: requires 3 arguments, but 1 was provided\n",
      "        int compare(size_type pos1, size_type count1, const self_type& str) const;\n",
      "            ^\n",
      "C:\\Users\\donov\\Miniconda3\\envs\\laby-jupyter\\Library\\include\\xtl/xbasic_fixed_string.hpp:201:13: note: candidate function not viable: requires 3 arguments, but 1 was provided\n",
      "        int compare(size_type pos1, size_type count1, const string_type& str) const;\n",
      "            ^\n",
      "C:\\Users\\donov\\Miniconda3\\envs\\laby-jupyter\\Library\\include\\xtl/xbasic_fixed_string.hpp:205:13: note: candidate function not viable: requires 3 arguments, but 1 was provided\n",
      "        int compare(size_type pos1, size_type count1, const_pointer s) const;\n",
      "            ^\n",
      "C:\\Users\\donov\\Miniconda3\\envs\\laby-jupyter\\Library\\include\\xtl/xbasic_fixed_string.hpp:206:13: note: candidate function not viable: requires 4 arguments, but 1 was provided\n",
      "        int compare(size_type pos1, size_type count1, const_pointer s, size_type count2) const;\n",
      "            ^\n",
      "C:\\Users\\donov\\Miniconda3\\envs\\laby-jupyter\\Library\\include\\xtl/xbasic_fixed_string.hpp:198:13: note: candidate function not viable: requires at least 4 arguments, but 1 was provided\n",
      "        int compare(size_type pos1, size_type count1, const self_type& str,\n",
      "            ^\n",
      "C:\\Users\\donov\\Miniconda3\\envs\\laby-jupyter\\Library\\include\\xtl/xbasic_fixed_string.hpp:202:13: note: candidate function not viable: requires at least 4 arguments, but 1 was provided\n",
      "        int compare(size_type pos1, size_type count1, const string_type& str,\n",
      "            ^\n",
      "In file included from input_line_5:1:\n",
      "In file included from C:\\Users\\donov\\Miniconda3\\envs\\laby-jupyter\\Library\\include\\xeus/xinterpreter.hpp:12:\n",
      "In file included from C:\\Program Files (x86)\\Microsoft Visual Studio 14.0\\VC\\include\\functional:6:\n",
      "In file included from C:\\Program Files (x86)\\Microsoft Visual Studio 14.0\\VC\\include\\xfunctional:7:\n",
      "In file included from C:\\Program Files (x86)\\Microsoft Visual Studio 14.0\\VC\\include\\xstring:6:\n",
      "C:\\Program Files (x86)\\Microsoft Visual Studio 14.0\\VC\\include\\xmemory0:239:2: error: no matching function for call to '_Fn'\n",
      "        _GET_TYPE_OR_DEFAULT(template rebind<_Other>::other,\n",
      "        ^~~~~~~~~~~~~~~~~~~~~~~~~~~~~~~~~~~~~~~~~~~~~~~~~~~~\n",
      "C:\\Program Files (x86)\\Microsoft Visual Studio 14.0\\VC\\include\\xtr1common:341:19: note: expanded from macro '_GET_TYPE_OR_DEFAULT'\n",
      "        typedef decltype(_Fn<_Ty>(0)) _Decltype; \\\n",
      "                         ^~~~~~~~\n",
      "C:\\Program Files (x86)\\Microsoft Visual Studio 14.0\\VC\\include\\xmemory0:580:3: note: in instantiation of template class 'std::_Get_rebind_type<std::allocator<int>, std::_Func_impl<void (*)(xeus::xcomm &&,\n",
      "      const xeus::xmessage &), std::allocator<int>, void, xeus::xcomm &&, const xeus::xmessage &> >' requested here\n",
      "                using rebind_alloc = typename _Get_rebind_type<_Alloc, _Other>::type;\n",
      "                ^\n",
      "C:\\Program Files (x86)\\Microsoft Visual Studio 14.0\\VC\\include\\xmemory0:919:40: note: in instantiation of template type alias 'rebind_alloc' requested here\n",
      "                typedef typename _Mytraits::template rebind_alloc<_Other>\n",
      "                                                     ^\n",
      "C:\\Program Files (x86)\\Microsoft Visual Studio 14.0\\VC\\include\\functional:344:30: note: in instantiation of template class 'std::_Wrap_alloc<std::allocator<int> >::rebind<std::_Func_impl<void (*)(xeus::xcomm\n",
      "      &&, const xeus::xmessage &), std::allocator<int>, void, xeus::xcomm &&, const xeus::xmessage &> >' requested here\n",
      "                typedef typename _Alimpl0::template rebind<_Myimpl>::other _Alimpl;\n",
      "                                           ^\n",
      "C:\\Program Files (x86)\\Microsoft Visual Studio 14.0\\VC\\include\\functional:327:3: note: in instantiation of function template specialization 'std::_Func_class<void, xeus::xcomm &&, const xeus::xmessage\n",
      "      &>::_Reset_alloc<void (*)(xeus::xcomm &&, const xeus::xmessage &), std::allocator<int> >' requested here\n",
      "                _Reset_alloc(_STD forward<_Fx>(_Val), allocator<int>());\n",
      "                ^\n",
      "C:\\Program Files (x86)\\Microsoft Visual Studio 14.0\\VC\\include\\functional:498:9: note: in instantiation of function template specialization 'std::_Func_class<void, xeus::xcomm &&, const xeus::xmessage\n",
      "      &>::_Reset<void (*)(xeus::xcomm &&, const xeus::xmessage &)>' requested here\n",
      "                this->_Reset(_STD move(_Func));\n",
      "                      ^\n",
      "C:\\Users\\donov\\Miniconda3\\envs\\laby-jupyter\\Library\\include\\xwidgets/xtransport.hpp:68:61: note: in instantiation of function template specialization 'std::function<void (xeus::xcomm &&, const xeus::xmessage\n",
      "      &)>::function<void (*)(xeus::xcomm &&, const xeus::xmessage &), void, void>' requested here\n",
      "            .register_comm_target(get_widget_target_name(), xobject_comm_opened);\n",
      "                                                            ^\n",
      "C:\\Program Files (x86)\\Microsoft Visual Studio 14.0\\VC\\include\\xmemory0:239:2: note: candidate template ignored: substitution failure [with _Uty = std::allocator<int>]: 'rebind' following the 'template'\n",
      "      keyword does not refer to a template\n",
      "        _GET_TYPE_OR_DEFAULT(template rebind<_Other>::other,\n",
      "        ^~~~~~~~~~~~~~~~~~~~~~~~~~~~~~~~~~~~~~~~~~~~~~~~~~~~\n",
      "C:\\Program Files (x86)\\Microsoft Visual Studio 14.0\\VC\\include\\xtr1common:334:15: note: expanded from macro '_GET_TYPE_OR_DEFAULT'\n",
      "                static auto _Fn(int) \\\n",
      "                       ~~~~ ^\n",
      "C:\\Program Files (x86)\\Microsoft Visual Studio 14.0\\VC\\include\\xmemory0:239:2: note: candidate template ignored: substitution failure [with _Uty = std::allocator<int>]: implicit instantiation of undefined\n",
      "      template 'std::_Replace_first_parameter<std::_Func_impl<void (*)(xeus::xcomm &&, const xeus::xmessage &),\n",
      "      std::allocator<int>, void, xeus::xcomm &&, const xeus::xmessage &>, std::allocator<int> >'\n",
      "        _GET_TYPE_OR_DEFAULT(template rebind<_Other>::other,\n",
      "        ^~~~~~~~~~~~~~~~~~~~~~~~~~~~~~~~~~~~~~~~~~~~~~~~~~~~\n",
      "C:\\Program Files (x86)\\Microsoft Visual Studio 14.0\\VC\\include\\xtr1common:338:15: note: expanded from macro '_GET_TYPE_OR_DEFAULT'\n",
      "                static auto _Fn(_Wrap_int) \\\n",
      "                       ~~~~ ^\n",
      "In file included from input_line_5:1:\n",
      "In file included from C:\\Users\\donov\\Miniconda3\\envs\\laby-jupyter\\Library\\include\\xeus/xinterpreter.hpp:12:\n",
      "In file included from C:\\Program Files (x86)\\Microsoft Visual Studio 14.0\\VC\\include\\functional:6:\n",
      "In file included from C:\\Program Files (x86)\\Microsoft Visual Studio 14.0\\VC\\include\\xfunctional:7:\n",
      "In file included from C:\\Program Files (x86)\\Microsoft Visual Studio 14.0\\VC\\include\\xstring:6:\n",
      "C:\\Program Files (x86)\\Microsoft Visual Studio 14.0\\VC\\include\\xmemory0:239:2: error: no matching function for call to '_Fn'\n",
      "        _GET_TYPE_OR_DEFAULT(template rebind<_Other>::other,\n",
      "        ^~~~~~~~~~~~~~~~~~~~~~~~~~~~~~~~~~~~~~~~~~~~~~~~~~~~\n",
      "C:\\Program Files (x86)\\Microsoft Visual Studio 14.0\\VC\\include\\xtr1common:341:19: note: expanded from macro '_GET_TYPE_OR_DEFAULT'\n",
      "        typedef decltype(_Fn<_Ty>(0)) _Decltype; \\\n",
      "                         ^~~~~~~~\n",
      "C:\\Program Files (x86)\\Microsoft Visual Studio 14.0\\VC\\include\\xmemory0:239:2: note: candidate template ignored: substitution failure [with _Uty = std::allocator<int>]: 'rebind' following the 'template'\n",
      "      keyword does not refer to a template\n",
      "        _GET_TYPE_OR_DEFAULT(template rebind<_Other>::other,\n",
      "        ^~~~~~~~~~~~~~~~~~~~~~~~~~~~~~~~~~~~~~~~~~~~~~~~~~~~\n",
      "C:\\Program Files (x86)\\Microsoft Visual Studio 14.0\\VC\\include\\xtr1common:334:15: note: expanded from macro '_GET_TYPE_OR_DEFAULT'\n",
      "                static auto _Fn(int) \\\n",
      "                       ~~~~ ^\n",
      "C:\\Program Files (x86)\\Microsoft Visual Studio 14.0\\VC\\include\\xmemory0:239:2: note: candidate template ignored: substitution failure [with _Uty = std::allocator<int>]: implicit instantiation of undefined\n",
      "      template 'std::_Replace_first_parameter<std::_Func_impl<void (*)(xeus::xcomm &&, const xeus::xmessage &),\n",
      "      std::allocator<int>, void, xeus::xcomm &&, const xeus::xmessage &>, std::allocator<int> >'\n",
      "        _GET_TYPE_OR_DEFAULT(template rebind<_Other>::other,\n",
      "        ^~~~~~~~~~~~~~~~~~~~~~~~~~~~~~~~~~~~~~~~~~~~~~~~~~~~\n",
      "C:\\Program Files (x86)\\Microsoft Visual Studio 14.0\\VC\\include\\xtr1common:338:15: note: expanded from macro '_GET_TYPE_OR_DEFAULT'\n",
      "                static auto _Fn(_Wrap_int) \\\n",
      "                       ~~~~ ^\n",
      "In file included from input_line_5:1:\n",
      "In file included from C:\\Users\\donov\\Miniconda3\\envs\\laby-jupyter\\Library\\include\\xeus/xinterpreter.hpp:12:\n",
      "C:\\Program Files (x86)\\Microsoft Visual Studio 14.0\\VC\\include\\functional:345:11: error: no viable conversion from 'const std::allocator<int>' to '_Alimpl' (aka 'int')\n",
      "                _Alimpl _Al(_Ax);\n",
      "                        ^   ~~~\n",
      "C:\\Program Files (x86)\\Microsoft Visual Studio 14.0\\VC\\include\\functional:327:3: note: in instantiation of function template specialization 'std::_Func_class<void, xeus::xcomm &&, const xeus::xmessage\n",
      "      &>::_Reset_alloc<void (*)(xeus::xcomm &&, const xeus::xmessage &), std::allocator<int> >' requested here\n",
      "                _Reset_alloc(_STD forward<_Fx>(_Val), allocator<int>());\n",
      "                ^\n",
      "C:\\Program Files (x86)\\Microsoft Visual Studio 14.0\\VC\\include\\functional:498:9: note: in instantiation of function template specialization 'std::_Func_class<void, xeus::xcomm &&, const xeus::xmessage\n",
      "      &>::_Reset<void (*)(xeus::xcomm &&, const xeus::xmessage &)>' requested here\n",
      "                this->_Reset(_STD move(_Func));\n",
      "                      ^\n",
      "C:\\Users\\donov\\Miniconda3\\envs\\laby-jupyter\\Library\\include\\xwidgets/xtransport.hpp:68:61: note: in instantiation of function template specialization 'std::function<void (xeus::xcomm &&, const xeus::xmessage\n",
      "      &)>::function<void (*)(xeus::xcomm &&, const xeus::xmessage &), void, void>' requested here\n",
      "            .register_comm_target(get_widget_target_name(), xobject_comm_opened);\n",
      "                                                            ^\n"
     ]
    }
   ],
   "source": [
    "#include \"xwidgets/xprogress.hpp\"\n",
    "xw::progress<double> progress_name;\n",
    "progress_name.display()"
   ]
  },
  {
   "cell_type": "markdown",
   "metadata": {
    "slideshow": {
     "slide_type": "subslide"
    }
   },
   "source": [
    "## Attributs\n",
    "Commandes pour :\n",
    "- Définir la valeur (exemple : 60)\n",
    "- Définir la couleur de la partie chargée (exemple Red)\n",
    "- Description (exemple : Descri)\n",
    "- Taille de la description (exemple : 40px)"
   ]
  },
  {
   "cell_type": "code",
   "execution_count": null,
   "metadata": {
    "slideshow": {
     "slide_type": "fragment"
    }
   },
   "outputs": [],
   "source": [
    "progress_name.value = 60;\n",
    "progress_name.style().bar_color = \"red\" ;\n",
    "progress_name.description = \"Descri\";\n",
    "progress_name.style().description_width = \"40px\";"
   ]
  },
  {
   "cell_type": "markdown",
   "metadata": {
    "slideshow": {
     "slide_type": "slide"
    }
   },
   "source": [
    "# xHTML - html widget\n",
    "\n",
    "## Intro\n",
    "\n",
    "Commandes pour : <br>\n",
    "- Inclure la librairie pour utiliser le html\n",
    "- Déclarer (créer) un objet qui peut contenir du xhtml nommé h_name\n",
    "- L'afficher"
   ]
  },
  {
   "cell_type": "code",
   "execution_count": 1,
   "metadata": {},
   "outputs": [],
   "source": [
    "#include \"xwidgets/xhtml.hpp\""
   ]
  },
  {
   "cell_type": "code",
   "execution_count": null,
   "metadata": {
    "slideshow": {
     "slide_type": "fragment"
    }
   },
   "outputs": [],
   "source": [
    "#include \"xwidgets/xhtml.hpp\"\n",
    "xw::html html;\n",
    "html.display();"
   ]
  },
  {
   "cell_type": "markdown",
   "metadata": {
    "slideshow": {
     "slide_type": "subslide"
    }
   },
   "source": [
    "Insérer le code HTML dans le balises xhtml comme suit :"
   ]
  },
  {
   "cell_type": "code",
   "execution_count": null,
   "metadata": {
    "slideshow": {
     "slide_type": "fragment"
    }
   },
   "outputs": [],
   "source": [
    "html.value = R\"xhtml(\n",
    "    <!-- inser code here\n",
    "    as mani line as you want\n",
    "    -->\n",
    ")xhtml\";"
   ]
  },
  {
   "cell_type": "code",
   "execution_count": null,
   "metadata": {
    "slideshow": {
     "slide_type": "fragment"
    }
   },
   "outputs": [],
   "source": [
    "Exemple du code HTML minimum pour insérer une image\n",
    "<img alt=\"description courte\" height=\"int\" width=\"int\" src=\"URL\">\n",
    "La taille doit être celle par défaut, modifiable ensuite avec du CSS"
   ]
  },
  {
   "cell_type": "markdown",
   "metadata": {
    "slideshow": {
     "slide_type": "slide"
    }
   },
   "source": [
    "# Numerical input - Demander un nombre\n",
    "\n",
    "## Commandes pour : <br>\n",
    "- Inclure la librairie des numerical input\n",
    "- Déclarer (créer) un objet input nommé ni_name\n",
    "- L'afficher\n",
    "- Définir la valeur (exemple 4)\n",
    "- Récupérer la valeur"
   ]
  },
  {
   "cell_type": "code",
   "execution_count": null,
   "metadata": {
    "slideshow": {
     "slide_type": "fragment"
    }
   },
   "outputs": [],
   "source": [
    "#include \"xwidgets/xnumeral.hpp\"\n",
    "xw::numeral<double> ni_name;\n",
    "ni_name.display();\n",
    "ni_name.value = 4;\n",
    "ni_name.value();"
   ]
  }
 ],
 "metadata": {
  "celltoolbar": "Slideshow",
  "kernelspec": {
   "display_name": "C++14",
   "language": "C++14",
   "name": "xeus-cling-cpp14"
  },
  "language_info": {
   "codemirror_mode": "text/x-c++src",
   "file_extension": ".cpp",
   "mimetype": "text/x-c++src",
   "name": "c++",
   "version": "14"
  }
 },
 "nbformat": 4,
 "nbformat_minor": 2
}
