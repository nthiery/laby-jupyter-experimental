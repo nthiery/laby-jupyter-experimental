{
 "cells": [
  {
   "cell_type": "markdown",
   "metadata": {
    "slideshow": {
     "slide_type": "slide"
    }
   },
   "source": [
    "# XWIDGETS DOCUMENTATION\n",
    "(en construction)"
   ]
  },
  {
   "cell_type": "markdown",
   "metadata": {
    "slideshow": {
     "slide_type": "fragment"
    }
   },
   "source": [
    "## Sommaire\n",
    "\n",
    "1 - Sliders<br>\n",
    "2 - Progress Bar<br>\n",
    "3 - xHTML widget"
   ]
  },
  {
   "cell_type": "code",
   "execution_count": null,
   "metadata": {},
   "outputs": [],
   "source": []
  },
  {
   "cell_type": "markdown",
   "metadata": {
    "slideshow": {
     "slide_type": "slide"
    }
   },
   "source": [
    "# SLIDER - Cursor bar\n",
    "\n",
    "## Intro\n",
    "\n",
    "Commandes pour : <br>\n",
    "- Inclure la librairie des sliders\n",
    "- Déclarer (créer) un slider nommé slider_name\n",
    "- L'afficher"
   ]
  },
  {
   "cell_type": "code",
   "execution_count": null,
   "metadata": {
    "slideshow": {
     "slide_type": "fragment"
    }
   },
   "outputs": [],
   "source": [
    "#include \"xwidgets/xslider.hpp\";\n",
    "xw::slider<double> slider_name;\n",
    "slider_name.display"
   ]
  },
  {
   "cell_type": "markdown",
   "metadata": {
    "slideshow": {
     "slide_type": "subslide"
    }
   },
   "source": [
    "## Valeurs\n",
    "\n",
    "Commandes pour :\n",
    "- Définir la valeur du slider (exemple : 60)\n",
    "- Récupérer la valeur\n",
    "- Définir la valeur max (=échelle) (exemple : 150)"
   ]
  },
  {
   "cell_type": "code",
   "execution_count": null,
   "metadata": {
    "slideshow": {
     "slide_type": "fragment"
    }
   },
   "outputs": [],
   "source": [
    "slider_name.value = 60;\n",
    "slider_name.value()\n",
    "slider_name.max = 150;"
   ]
  },
  {
   "cell_type": "markdown",
   "metadata": {
    "slideshow": {
     "slide_type": "subslide"
    }
   },
   "source": [
    "## Apparence\n",
    "\n",
    "Commandes pour :\n",
    "-Changer la couleur du bouton\n",
    "- Mettre le curseur horizontal ou vertical\n",
    "- Ajouter une descrition/nom au slider"
   ]
  },
  {
   "cell_type": "code",
   "execution_count": null,
   "metadata": {
    "slideshow": {
     "slide_type": "fragment"
    }
   },
   "outputs": [],
   "source": [
    "slider.style().handle_color = \"red\";\n",
    "slider.orientation = \"horizontal\";\n",
    "slider.description = \"A slider\";"
   ]
  },
  {
   "cell_type": "markdown",
   "metadata": {
    "slideshow": {
     "slide_type": "slide"
    }
   },
   "source": [
    "# PROGRESS - Progression bar\n",
    "\n",
    "## Intro\n",
    "\n",
    "Commandes pour : <br>\n",
    "- Inclure la librairie des Progress\n",
    "- Déclarer (créer) un Progress nommé progress_name\n",
    "- L'afficher"
   ]
  },
  {
   "cell_type": "code",
   "execution_count": null,
   "metadata": {
    "slideshow": {
     "slide_type": "fragment"
    }
   },
   "outputs": [],
   "source": [
    "#include \"xwidgets/xprogress.hpp\"\n",
    "xw::progress<double> progress_name;\n",
    "progress_name.display()"
   ]
  },
  {
   "cell_type": "markdown",
   "metadata": {
    "slideshow": {
     "slide_type": "subslide"
    }
   },
   "source": [
    "## Attributs\n",
    "Commandes pour :\n",
    "- Définir la valeur (exemple : 60)\n",
    "- Définir la couleur de la partie chargée (exemple Red)\n",
    "- Description (exemple : Descri)\n",
    "- Taille de la description (exemple : 40px)"
   ]
  },
  {
   "cell_type": "code",
   "execution_count": null,
   "metadata": {
    "slideshow": {
     "slide_type": "fragment"
    }
   },
   "outputs": [],
   "source": [
    "progress_name.value = 60;\n",
    "progress_name.style().bar_color = \"red\" ;\n",
    "progress_name.description = \"Descri\";\n",
    "progress_name.style().description_width = \"40px\";"
   ]
  },
  {
   "cell_type": "markdown",
   "metadata": {
    "slideshow": {
     "slide_type": "slide"
    }
   },
   "source": [
    "# xHTML - html widget\n",
    "\n",
    "## Intro\n",
    "\n",
    "Commandes pour : <br>\n",
    "- Inclure la librairie pour utiliser le html\n",
    "- Déclarer (créer) un objet qui peut contenir du xhtml nommé h_name\n",
    "- L'afficher"
   ]
  },
  {
   "cell_type": "code",
   "execution_count": null,
   "metadata": {
    "slideshow": {
     "slide_type": "fragment"
    }
   },
   "outputs": [],
   "source": [
    "#include \"xwidgets/xhtml.hpp\"\n",
    "xw::html html;\n",
    "html.display();"
   ]
  },
  {
   "cell_type": "markdown",
   "metadata": {
    "slideshow": {
     "slide_type": "subslide"
    }
   },
   "source": [
    "Insérer le code HTML dans le balises xhtml comme suit :"
   ]
  },
  {
   "cell_type": "code",
   "execution_count": null,
   "metadata": {
    "slideshow": {
     "slide_type": "fragment"
    }
   },
   "outputs": [],
   "source": [
    "html.value = R\"xhtml(\n",
    "    <!-- inser code here\n",
    "    as mani line as you want\n",
    "    -->\n",
    ")xhtml\";"
   ]
  },
  {
   "cell_type": "code",
   "execution_count": null,
   "metadata": {
    "slideshow": {
     "slide_type": "fragment"
    }
   },
   "outputs": [],
   "source": [
    "Exemple du code HTML minimum pour insérer une image\n",
    "<img alt=\"description courte\" height=\"int\" width=\"int\" src=\"URL\">\n",
    "La taille doit être celle par défaut, modifiable ensuite avec du CSS"
   ]
  },
  {
   "cell_type": "markdown",
   "metadata": {
    "slideshow": {
     "slide_type": "slide"
    }
   },
   "source": [
    "# Numerical input - Demander un nombre\n",
    "\n",
    "## Commandes pour : <br>\n",
    "- Inclure la librairie des numerical input\n",
    "- Déclarer (créer) un objet input nommé ni_name\n",
    "- L'afficher\n",
    "- Définir la valeur (exemple 4)\n",
    "- Récupérer la valeur"
   ]
  },
  {
   "cell_type": "code",
   "execution_count": null,
   "metadata": {
    "slideshow": {
     "slide_type": "fragment"
    }
   },
   "outputs": [],
   "source": [
    "#include \"xwidgets/xnumeral.hpp\"\n",
    "xw::numeral<double> ni_name;\n",
    "ni_name.display();\n",
    "ni_name.value = 4;\n",
    "ni_name.value();"
   ]
  }
 ],
 "metadata": {
  "celltoolbar": "Slideshow",
  "kernelspec": {
   "display_name": "Python 3",
   "language": "python",
   "name": "python3"
  },
  "language_info": {
   "codemirror_mode": {
    "name": "ipython",
    "version": 3
   },
   "file_extension": ".py",
   "mimetype": "text/x-python",
   "name": "python",
   "nbconvert_exporter": "python",
   "pygments_lexer": "ipython3",
   "version": "3.6.3"
  }
 },
 "nbformat": 4,
 "nbformat_minor": 2
}
