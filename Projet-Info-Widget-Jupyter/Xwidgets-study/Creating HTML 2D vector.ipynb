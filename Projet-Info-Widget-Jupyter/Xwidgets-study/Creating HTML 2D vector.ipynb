{
 "cells": [
  {
   "cell_type": "markdown",
   "metadata": {},
   "source": [
    "# Creating HTML 2D Vector"
   ]
  },
  {
   "cell_type": "markdown",
   "metadata": {},
   "source": [
    "# First\n",
    "The jupyter has to run with the Xeus C++14 Kernel. If it's not the case, do not run the cells. It also needs to install xwidgets (link below)"
   ]
  },
  {
   "cell_type": "markdown",
   "metadata": {},
   "source": [
    "# Intro\n",
    "In our <a href=\"https://github.com/nthiery/laby-jupyter\" target=\"_blank\"> laby-jupyter project</a>, we have to create our HTML 2D Vector (in xeus C++14 kernel), we will need <a href=\"https://github.com/QuantStack/xwidgets\" target=\"_blank\">xwidget</a>.<br>\n",
    "The objective is to create an images grid, using HTML to import the images.\n",
    "\n",
    "First, we will have to include the html widgets and the vector library. Then, we will create an html object (for the exemple) and a \"2D vector\" that contains HTML objects. The grid is gonna be 5 height and 8 width."
   ]
  },
  {
   "cell_type": "code",
   "execution_count": null,
   "metadata": {},
   "outputs": [],
   "source": [
    "#include \"xwidgets/xhtml.hpp\"\n",
    "#include <vector>\n",
    "xw::html htmlObject;\n",
    "std::vector < std::vector<xw::html> > 2Dgrid;"
   ]
  },
  {
   "cell_type": "markdown",
   "metadata": {},
   "source": [
    "Now that we created our objects, we are gonna initialise the 2Dgrid with right height and width."
   ]
  },
  {
   "cell_type": "code",
   "execution_count": null,
   "metadata": {},
   "outputs": [],
   "source": [
    "2Dgrid = std::vector < std::vector<xw::html> >(5);\n",
    "for (int i = 0 ; i<5 ; i++) {\n",
    "    vecthtml[i] = std::vector<xw::html>(8);\n",
    "}"
   ]
  },
  {
   "cell_type": "markdown",
   "metadata": {},
   "source": [
    "We can also use 2 int called width and height to set our grid. <b>Like so, we can set or ask de with/height before creating the grid.</b> We can also make a function."
   ]
  },
  {
   "cell_type": "code",
   "execution_count": null,
   "metadata": {},
   "outputs": [],
   "source": [
    "std::vector<std::vector<xw::html>> createGrid(int width, int height){\n",
    "    std::vector<std::vector<xw::html>> temp;\n",
    "    temp = std::vector<std::vector<xw::html>>(height);\n",
    "    for (int i = 0 ; i<height ; i++) {\n",
    "        temp[i] = std::vector<xw::html>(width);\n",
    "    }\n",
    "    return temp;\n",
    "}"
   ]
  },
  {
   "cell_type": "code",
   "execution_count": null,
   "metadata": {},
   "outputs": [],
   "source": [
    "int width=5;\n",
    "int height=8;\n",
    "std::vector < std::vector<xw::html> > newGrid;\n",
    "newGrid = createGrid(width, height);"
   ]
  },
  {
   "cell_type": "markdown",
   "metadata": {},
   "source": [
    "It may appears that <b>Jupyter doesn't accept the vector type for a function.</b> <br>\n",
    "Error : \"Function definition is not possible here\" <br>\n",
    "Then, we will use a typedef that will (...)\n",
    "\n",
    "The final code :"
   ]
  },
  {
   "cell_type": "code",
   "execution_count": null,
   "metadata": {},
   "outputs": [],
   "source": [
    "#include \"xwidgets/xhtml.hpp\"\n",
    "#include <vector>\n",
    "typedef std::vector<std::vector<xw::html>> Matrice; \n",
    "\n",
    "/* Function that creates a new grid */\n",
    "Matrice createGrid(int width, int height){\n",
    "    Matrice temp;\n",
    "    temp = Matrice(height);\n",
    "    for (int i = 0 ; i<height ; i++) {\n",
    "        temp[i] = std::vector<xw::html>(width);\n",
    "    }\n",
    "    return temp;\n",
    "}\n",
    "\n",
    "/* Set the width and height here */\n",
    "int width=5; \n",
    "int height=8;\n",
    "std::vector < std::vector<xw::html> > newGrid;\n",
    "newGrid = createGrid(width, height);"
   ]
  },
  {
   "cell_type": "markdown",
   "metadata": {},
   "source": [
    "# How to put an image in this grid ?\n",
    "\n",
    "Now that we know how to create our grid, we want to put images in. We will do that by using HTML img tag."
   ]
  },
  {
   "cell_type": "code",
   "execution_count": null,
   "metadata": {},
   "outputs": [],
   "source": [
    "/* Supposing that a grid called Grid has been created */\n",
    "Grid[0][0].value = R\"xhtml(\n",
    "    <img src=\"URL\">\n",
    ")xhtml\";"
   ]
  },
  {
   "cell_type": "markdown",
   "metadata": {},
   "source": [
    "To use the binder, we will use the following links for the img :\n",
    "\n",
    "http://image.noelshack.com/fichiers/2018/04/6/1517040353-ant-n.png <br>\n",
    "http://image.noelshack.com/fichiers/2018/04/6/1517040353-exit.png <br>\n",
    "http://image.noelshack.com/fichiers/2018/04/6/1517040353-wall.png <br>\n",
    "http://image.noelshack.com/fichiers/2018/04/6/1517040353-web.png <br>\n"
   ]
  },
  {
   "cell_type": "markdown",
   "metadata": {},
   "source": [
    "## A try in the binder\n",
    "Let's try it the binder."
   ]
  },
  {
   "cell_type": "code",
   "execution_count": null,
   "metadata": {},
   "outputs": [],
   "source": [
    "/* Intro */\n",
    "#include \"xwidgets/xhtml.hpp\"\n",
    "#include <vector>\n",
    "typedef std::vector<std::vector<xw::html>> Grid; \n",
    "\n",
    "/* Function that creates a new grid */\n",
    "Grid createGrid(int width, int height){\n",
    "    Grid temp;\n",
    "    temp = Grid(height);\n",
    "    for (int i = 0 ; i<height ; i++) {\n",
    "        temp[i] = std::vector<xw::html>(width);\n",
    "    }\n",
    "    return temp;\n",
    "}\n",
    "\n",
    "/* Set the width and height here */\n",
    "int width=5; \n",
    "int height=8;\n",
    "std::vector < std::vector<xw::html> > myGrid;\n",
    "myGrid = createGrid(width, height);\n",
    "\n",
    "/*Fill the grid with wall img */\n",
    "Grid fillTheGrid(Grid thegrid) {\n",
    "    for (int i=0 ; i<thegrid.size() ; i++) {\n",
    "        for (int j=0 ; j<thegrid[0].size() ; j++) {\n",
    "            thegrid[i][j].value = R\"xhtml(\n",
    "                <img src=\"http://www.noelshack.com/2018-04-6-1517040353-wall.png\">\n",
    "            )xhtml\";\n",
    "        }\n",
    "    }\n",
    "}\n",
    "\n",
    "/* Display the grid */\n",
    "myGrid = fillTheGrid(myGrid);\n",
    "myGrid;"
   ]
  },
  {
   "cell_type": "markdown",
   "metadata": {},
   "source": [
    "Unfortunately, this causes an error  : ... .\n",
    "\n",
    "We will try the same type of code but with a grid that contains Int (and not html widget)."
   ]
  },
  {
   "cell_type": "code",
   "execution_count": null,
   "metadata": {},
   "outputs": [],
   "source": [
    "/* Intro */\n",
    "#include \"xwidgets/xhtml.hpp\"\n",
    "#include <vector>\n",
    "typedef std::vector<std::vector<xw::html>> Grid; \n",
    "typedef std::vector<std::vector<int>> Matrice; \n",
    "Matrice mat;\n",
    "Grid gri;\n",
    "\n",
    "/* Function that creates a new grid */\n",
    "Matrice createMatrice(int width, int height){\n",
    "    Matrice temp;\n",
    "    temp = Matrice(height);\n",
    "    for (int i = 0 ; i<height ; i++) {\n",
    "        temp[i] = std::vector<int>(width);\n",
    "    }\n",
    "    return temp;\n",
    "}\n",
    "\n",
    "Matrice fillTheMatrice(Matrice m) {\n",
    "    for (int i=0 ; i < 5 ; i++) {\n",
    "        for (int j=0 ; j<8 ; j++) {\n",
    "            m[i][j] = 2;\n",
    "        }\n",
    "    }\n",
    "    return m;\n",
    "}\n",
    "\n",
    "mat = createMatrice(5,8);\n",
    "mat = fillTheMatrice(mat);\n",
    "mat[0][0] = 4;"
   ]
  },
  {
   "cell_type": "markdown",
   "metadata": {},
   "source": [
    "On va ensuite afficher la grille, puis une ligne, et enfin le contenu d'une cellule, afin de voir l'affichage que cela créer"
   ]
  },
  {
   "cell_type": "code",
   "execution_count": null,
   "metadata": {},
   "outputs": [],
   "source": [
    "mat\n",
    "    /** ça affiche :\n",
    "(Matrice &) { @0x722d570, @0x722d588, @0x722d5a0, @0x722d5b8, @0x722d5d0, @0x722d5e8, @0x722d600, @0x722d618 }\n",
    "    **/"
   ]
  },
  {
   "cell_type": "code",
   "execution_count": null,
   "metadata": {},
   "outputs": [],
   "source": [
    "mat[0]\n",
    "    /** ça affiche :\n",
    "(__gnu_cxx::__alloc_traits<std::allocator<std::vector<int, std::allocator<int> > > >::value_type &) { 4, 2, 2, 2, 2 }\n",
    "    **/"
   ]
  },
  {
   "cell_type": "code",
   "execution_count": null,
   "metadata": {},
   "outputs": [],
   "source": [
    "mat[0][0]\n",
    "    /** ça affiche :\n",
    "(int) 4\n",
    "    **/"
   ]
  },
  {
   "cell_type": "markdown",
   "metadata": {},
   "source": [
    "The same code but with html widget :"
   ]
  },
  {
   "cell_type": "code",
   "execution_count": null,
   "metadata": {},
   "outputs": [],
   "source": [
    "/* Intro */\n",
    "#include \"xwidgets/xhtml.hpp\"\n",
    "#include <vector>\n",
    "typedef std::vector<std::vector<xw::html>> Grid; \n",
    "typedef std::vector<std::vector<int>> Matrice; \n",
    "Matrice mat;\n",
    "Grid gri;\n",
    "\n",
    "/* Function that creates a new grid */\n",
    "Grid createMatrice(int width, int height){\n",
    "    Grid temp;\n",
    "    temp = std::vector<std::vector<xw::html>>(height);\n",
    "    for (int i = 0 ; i<height ; i++) {\n",
    "        temp[i] = std::vector<xw::html>(width);\n",
    "    }\n",
    "    return temp;\n",
    "}\n",
    "\n",
    "/** --- CHANGE THIS PART ---\n",
    "Grid fillTheMatrice(Grid m) {\n",
    "    for (int i=0 ; i < 5 ; i++) {\n",
    "        for (int j=0 ; j<8 ; j++) {\n",
    "            m[i][j] = 2;\n",
    "        }\n",
    "    }\n",
    "    return m;\n",
    "}\n",
    "**/\n",
    "\n",
    "mat = createMatrice(5,8);\n",
    "mat = fillTheMatrice(mat);\n",
    "mat[0][0] = 4;"
   ]
  },
  {
   "cell_type": "code",
   "execution_count": null,
   "metadata": {},
   "outputs": [],
   "source": []
  },
  {
   "cell_type": "code",
   "execution_count": null,
   "metadata": {},
   "outputs": [],
   "source": []
  },
  {
   "cell_type": "code",
   "execution_count": null,
   "metadata": {},
   "outputs": [],
   "source": []
  },
  {
   "cell_type": "code",
   "execution_count": null,
   "metadata": {},
   "outputs": [],
   "source": []
  },
  {
   "cell_type": "markdown",
   "metadata": {},
   "source": []
  },
  {
   "cell_type": "markdown",
   "metadata": {},
   "source": [
    "# Question à se poser ?\n",
    "\n",
    "- Faut-il permettre à l'utilisateur de pouvoir enregistrer ses propres niveaux ?\n",
    "- Faut-il permettre à un fichier-niveau d'enregistrer un commentaire qui sera affiché ?\n",
    "- Faut-il pouvoir ouvrir différents niveaux depuis la même page web, ou fichier par fichier ?\n"
   ]
  },
  {
   "cell_type": "code",
   "execution_count": null,
   "metadata": {},
   "outputs": [],
   "source": []
  }
 ],
 "metadata": {
  "kernelspec": {
   "display_name": "xeus C++14",
   "language": "",
   "name": "xeus-cling-cpp14"
  },
  "language_info": {
   "codemirror_mode": "text/x-c++src",
   "file_extension": ".cpp",
   "mimetype": "text/x-c++src",
   "name": "c++",
   "version": ""
  }
 },
 "nbformat": 4,
 "nbformat_minor": 2
}
