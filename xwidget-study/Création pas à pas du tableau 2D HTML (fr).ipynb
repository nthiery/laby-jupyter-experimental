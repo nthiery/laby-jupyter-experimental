{
 "cells": [
  {
   "cell_type": "markdown",
   "metadata": {},
   "source": [
    "<div id=\"comeback_to_the_top\"> \n",
    "<!-- Code qui permet de faire un lien qui amène directement ici depuis le haut de la page-->\n",
    "\n",
    "# Etude Terminé\n",
    "\n",
    "<i>EDIT:</i> L'étude est maintenant terminé. Le code est disponible en fin de page, <b><a href=\"#correct_code_bottom_page\" style=\"color:#da0e0e\">cliquer ici pour y accéder directement</a></b>.\n",
    "\n",
    "La suite consistera en la création de fichiers qui contiennent toutes les informations nécessaires sur un niveau (Taille, contenu de la grille, commentaire, ...). Retrouver tous les fichiers sur le <a href=\"https://github.com/nthiery/laby-jupyter\" style=\"color:#da0e0e\">Projet Laby-Jupyter</a>."
   ]
  },
  {
   "cell_type": "markdown",
   "metadata": {},
   "source": [
    "## Problème de création d'un tableau 2D contenant du HTML\n",
    "\n",
    "Il me parait impossible de créer un tableau 2D ( vector<vector<html>> ). Voici l'erreur que j'obtiens : <br>\n",
    "http://image.noelshack.com/fichiers/2018/04/7/1517161444-temp.png . <br>\n",
    "    <i> EDIT : L'erreur a été résolue par la suite </i>\n",
    "\n",
    "Voilà ma procédure (que je lance via binder) "
   ]
  },
  {
   "cell_type": "markdown",
   "metadata": {},
   "source": [
    "## Premièrement, je lance des essais avec des int.\n",
    "Je me fais des fonctions qui créer un tableau de taille 5x8, qui rempli ce tableau avec des (int)2, sauf la première case ( t[0][0] ) qui qui vaut 4. J'affiche ensuite le tableau, puis la première ligne, puis la première cellule. Voilà le résultat : <br>\n",
    "http://image.noelshack.com/fichiers/2018/04/7/1517161608-temp.png"
   ]
  },
  {
   "cell_type": "markdown",
   "metadata": {},
   "source": [
    "## Des essais avec un tableau \"1D\"\n",
    "\n",
    "Par la suite, je lance les 3 cellules Jupyter du HTML widget. Juste en dessous de ces 3 cases, je me créer un tableau de 3 cases, où j'insère du code dans la première. Voilà le résultat : <br>\n",
    "http://image.noelshack.com/fichiers/2018/04/7/1517161858-temp.png"
   ]
  },
  {
   "cell_type": "markdown",
   "metadata": {},
   "source": [
    "## Essais avec le tableau 2D HTML\n",
    "\n",
    "Après avoir relancé le kernel, et lancé les mêmes cellules de code, je n'obtiens plus les erreurs ... Les erreurs ont spontannément disparu? Code ci-dessous."
   ]
  },
  {
   "cell_type": "code",
   "execution_count": 1,
   "metadata": {},
   "outputs": [],
   "source": [
    "#include \"xwidgets/xhtml.hpp\""
   ]
  },
  {
   "cell_type": "code",
   "execution_count": 2,
   "metadata": {},
   "outputs": [],
   "source": [
    "std::vector<std::vector<xw::html>> tableau_html;"
   ]
  },
  {
   "cell_type": "code",
   "execution_count": 3,
   "metadata": {},
   "outputs": [],
   "source": [
    "tableau_html = std::vector<std::vector<xw::html>>(2);"
   ]
  },
  {
   "cell_type": "code",
   "execution_count": 4,
   "metadata": {},
   "outputs": [
    {
     "data": {
      "text/plain": [
       "{ { @0x5bc37d0, @0x5bc4060 }, { @0x5ecf340, @0x5ecfbd0 } }"
      ]
     },
     "execution_count": 4,
     "metadata": {},
     "output_type": "execute_result"
    }
   ],
   "source": [
    "tableau_html[0] = std::vector<xw::html>(2);\n",
    "tableau_html[1] = std::vector<xw::html>(2);\n",
    "/* Affichage du tableau */\n",
    "tableau_html"
   ]
  },
  {
   "cell_type": "code",
   "execution_count": 5,
   "metadata": {},
   "outputs": [
    {
     "data": {
      "application/vnd.jupyter.widget-view+json": {
       "model_id": "bba30c7e37d0428c837e21457c690989",
       "version_major": 2,
       "version_minor": 0
      },
      "text/plain": [
       "A Jupyter widget"
      ]
     },
     "metadata": {},
     "output_type": "display_data"
    }
   ],
   "source": [
    "tableau_html[0][0].value = R\"xhtml(\n",
    "    <div style=\"\n",
    "        width: 80px;\n",
    "        height: 100px;\n",
    "        background: #323;\n",
    "        color: white;\n",
    "        text-align: center;\"\n",
    "        >Some HTML\n",
    "    </div>\n",
    ")xhtml\";\n",
    "/* Affichage de la première case dans laquelle on vient de mettre du code*/\n",
    "tableau_html[0][0].display();"
   ]
  },
  {
   "cell_type": "markdown",
   "metadata": {},
   "source": [
    "## Insérer une balise img via un objet html externe au tableau\n",
    "\n",
    "On va d'abord créer un objet html que l'on va appeler html_img et qui contiendra une image. On va ensuite créer notre tableau comme précédemment, et insérer l'image dans chaque case en utilisant l'objet externe."
   ]
  },
  {
   "cell_type": "code",
   "execution_count": 2,
   "metadata": {},
   "outputs": [],
   "source": [
    "xw::html html_img;\n",
    "html_img.value = R\"xhtml(\n",
    "    <img src=\"http://image.noelshack.com/fichiers/2018/04/6/1517040353-wall.png\">\n",
    ")xhtml\";"
   ]
  },
  {
   "cell_type": "code",
   "execution_count": 3,
   "metadata": {},
   "outputs": [],
   "source": [
    "// On créer manuellement notre tableau 2x2\n",
    "std::vector<std::vector<xw::html>> tableau_html;\n",
    "tableau_html = std::vector<std::vector<xw::html>>(2);\n",
    "tableau_html[0] = std::vector<xw::html>(2);\n",
    "tableau_html[1] = std::vector<xw::html>(2);"
   ]
  },
  {
   "cell_type": "code",
   "execution_count": 4,
   "metadata": {},
   "outputs": [],
   "source": [
    "// On insère le même code dans les 4 cases, soit l'image\n",
    "tableau_html[0][0] = html_img;\n",
    "tableau_html[0][1] = html_img;\n",
    "tableau_html[1][0] = html_img;\n",
    "tableau_html[1][1] = html_img;"
   ]
  },
  {
   "cell_type": "markdown",
   "metadata": {},
   "source": [
    "# Problème d'affichage (horinzontal / Vertical)\n",
    "\n",
    "Je suis parvenu à créer un tableau 2D dont chaque case contient une image HTML, cependant lors de l'affichage, chaque case se positionne sous la précéddente. C'est dû au fait que le notebook considère chaque Display comme un nouvel Output. Et impossible de changer cela via le code html/css, puisque ça ne relève pas du widget, mais bien de jupyter ... Bloqué ?\n",
    "\n",
    "Commandes pour afficher les images unes à unes :"
   ]
  },
  {
   "cell_type": "code",
   "execution_count": 5,
   "metadata": {},
   "outputs": [
    {
     "data": {
      "application/vnd.jupyter.widget-view+json": {
       "model_id": "723c7340a97349b7bd91d813bc388bc6",
       "version_major": 2,
       "version_minor": 0
      },
      "text/plain": [
       "A Jupyter widget"
      ]
     },
     "metadata": {},
     "output_type": "display_data"
    },
    {
     "data": {
      "application/vnd.jupyter.widget-view+json": {
       "model_id": "79d1b5032efc424bb52b7208e56b30ea",
       "version_major": 2,
       "version_minor": 0
      },
      "text/plain": [
       "A Jupyter widget"
      ]
     },
     "metadata": {},
     "output_type": "display_data"
    },
    {
     "data": {
      "application/vnd.jupyter.widget-view+json": {
       "model_id": "c7cfac7b62754491831d6720f757215c",
       "version_major": 2,
       "version_minor": 0
      },
      "text/plain": [
       "A Jupyter widget"
      ]
     },
     "metadata": {},
     "output_type": "display_data"
    },
    {
     "data": {
      "application/vnd.jupyter.widget-view+json": {
       "model_id": "185ffe861c904d1fa3b7633a7d9e3d68",
       "version_major": 2,
       "version_minor": 0
      },
      "text/plain": [
       "A Jupyter widget"
      ]
     },
     "metadata": {},
     "output_type": "display_data"
    }
   ],
   "source": [
    "tableau_html[0][0].display();\n",
    "tableau_html[0][1].display();\n",
    "tableau_html[1][0].display();\n",
    "tableau_html[1][1].display();"
   ]
  },
  {
   "cell_type": "markdown",
   "metadata": {},
   "source": [
    "## Piste de résolution de l'affichaque des img en ligne\n",
    "\n",
    "Après relecture des widgets, on voit qu'il est possible de \"sortir\" plusieurs widgets en un seul output. Pour cela nous utiliserons le widget appelé une \"box\".\n",
    "\n",
    "Voilà comment utiliser ce widget : <br>\n",
    "Si on considère b notre box, et le tableau_html utilisé précédemment, alors :"
   ]
  },
  {
   "cell_type": "code",
   "execution_count": 1,
   "metadata": {},
   "outputs": [
    {
     "data": {
      "application/vnd.jupyter.widget-view+json": {
       "model_id": "651949e3736b49549e0031375a42d6ad",
       "version_major": 2,
       "version_minor": 0
      },
      "text/plain": [
       "A Jupyter widget"
      ]
     },
     "metadata": {},
     "output_type": "display_data"
    }
   ],
   "source": [
    "#include \"xwidgets/xbox.hpp\"\n",
    "#include \"xwidgets/xhtml.hpp\"\n",
    "\n",
    "// On créer manuellement notre tableau 2x2\n",
    "std::vector<std::vector<xw::html>> tableau_html;\n",
    "tableau_html = std::vector<std::vector<xw::html>>(2);\n",
    "tableau_html[0] = std::vector<xw::html>(2);\n",
    "tableau_html[1] = std::vector<xw::html>(2);\n",
    "\n",
    "// On créer notre box et on change le code html pour lui affecter un style\n",
    "xw::vbox b;\n",
    "xw::html html_img;\n",
    "html_img.value = R\"xhtml(\n",
    "    <img src=\"http://image.noelshack.com/fichiers/2018/04/6/1517040353-wall.png\" style=\"display:inline-block;\">\n",
    "    )xhtml\";\n",
    "\n",
    "// On insère le même code dans les 4 cases, soit l'image\n",
    "tableau_html[0][0] = html_img;\n",
    "tableau_html[0][1] = html_img;\n",
    "tableau_html[1][0] = html_img;\n",
    "tableau_html[1][1] = html_img;\n",
    "\n",
    "//on ajoute les cases du tableau dans la box\n",
    "b.add(tableau_html[0][0]);\n",
    "b.add(tableau_html[0][1]);\n",
    "b.add(tableau_html[1][0]);\n",
    "b.add(tableau_html[1][1]);\n",
    "\n",
    "//On affiche la box\n",
    "b.display();"
   ]
  },
  {
   "cell_type": "code",
   "execution_count": 2,
   "metadata": {},
   "outputs": [
    {
     "data": {
      "application/vnd.jupyter.widget-view+json": {
       "model_id": "60ab05ff04c247dc959c7eb5036bf124",
       "version_major": 2,
       "version_minor": 0
      },
      "text/plain": [
       "A Jupyter widget"
      ]
     },
     "metadata": {},
     "output_type": "display_data"
    }
   ],
   "source": [
    "xw::hbox hb;\n",
    "hb.add(tableau_html[0][0]);\n",
    "hb.add(tableau_html[0][1]);\n",
    "hb.add(tableau_html[1][0]);\n",
    "hb.add(tableau_html[1][1]);\n",
    "hb.display()\n"
   ]
  },
  {
   "cell_type": "markdown",
   "metadata": {},
   "source": [
    "## Toujours le même problème d'affichage... \n",
    "\n",
    "Les widgets HTML ne peuvent se mettre cotes à cotes, même dans une box. Et ce parce que le code html, lorsqu'il sort dans le Output, est inséré dans une div. Lorsqu'on insère donc plusieurs Html Widgets dans une même box, ils vont chacun sortir de façon indépendante. Impossible donc de les aligner en leur donnant un style. On retombe sur le même problème...\n",
    "\n",
    "Nouvelle piste de résolution : <br>\n",
    "Les widgets button ne sont pas affichés dans des div, peut-être sont-ils alignables ?"
   ]
  },
  {
   "cell_type": "markdown",
   "metadata": {},
   "source": [
    "## La solution : Utiliser des hbox\n",
    "\n",
    "Les hbox sont similaires aux box, à la différence près que les hbox peuvent s'afficher sur une même ligne. Ainsi, elles répondent aux critères que l'on cherchait. Nous utiliserons donc plusieurs hbox. Ainsi, chaque hbox se placera l'une sous l'autre, ce qui constituera nos différentes lignes, et dans chaque hbox nous placerons plusieurs images.\n",
    "\n",
    "En reprenant le code précédemment créer, nous pouvons agir comme ceci :"
   ]
  },
  {
   "cell_type": "code",
   "execution_count": 1,
   "metadata": {},
   "outputs": [
    {
     "data": {
      "application/vnd.jupyter.widget-view+json": {
       "model_id": "15d6ada9b54a4f56b4e3f256fdc6b600",
       "version_major": 2,
       "version_minor": 0
      },
      "text/plain": [
       "A Jupyter widget"
      ]
     },
     "metadata": {},
     "output_type": "display_data"
    },
    {
     "data": {
      "application/vnd.jupyter.widget-view+json": {
       "model_id": "3e52ce9706d040d5884a65e70b23ce88",
       "version_major": 2,
       "version_minor": 0
      },
      "text/plain": [
       "A Jupyter widget"
      ]
     },
     "metadata": {},
     "output_type": "display_data"
    }
   ],
   "source": [
    "#include \"xwidgets/xbox.hpp\"\n",
    "#include \"xwidgets/xhtml.hpp\"\n",
    "\n",
    "// On créer manuellement notre tableau 2x2\n",
    "std::vector<std::vector<xw::html>> tableau_html;\n",
    "tableau_html = std::vector<std::vector<xw::html>>(2);\n",
    "tableau_html[0] = std::vector<xw::html>(2);\n",
    "tableau_html[1] = std::vector<xw::html>(2);\n",
    "\n",
    "// On créer manuellement 2 hbox et on créer un code html qui contient une image exemple\n",
    "xw::hbox hbox1, hbox2;\n",
    "xw::html html_img;\n",
    "html_img.value = R\"xhtml(\n",
    "    <img src=\"http://image.noelshack.com/fichiers/2018/04/6/1517040353-wall.png\">\n",
    "    )xhtml\";\n",
    "\n",
    "// On insère le même code dans les 4 cases, soit l'image\n",
    "tableau_html[0][0] = html_img;\n",
    "tableau_html[0][1] = html_img;\n",
    "tableau_html[1][0] = html_img;\n",
    "tableau_html[1][1] = html_img;\n",
    "\n",
    "//on ajoute les cases du tableau dans la box\n",
    "hbox1.add(tableau_html[0][0]);\n",
    "hbox1.add(tableau_html[0][1]);\n",
    "hbox2.add(tableau_html[1][0]);\n",
    "hbox2.add(tableau_html[1][1]);\n",
    "\n",
    "//On affiche les hbox\n",
    "hbox1.display();\n",
    "hbox2.display();"
   ]
  },
  {
   "cell_type": "markdown",
   "metadata": {},
   "source": [
    "Nous parvenons enfin à afficher nos images dans des alignements correctes, mais ceci ne fonctionne que par des initialisation manuelle. Pour notre implantation de Laby, nous souhaiterons que l'utilisateur puisse utiliser des niveaux, qui ne possèdent pas toujours les mêmes dimensions (longueur/largeur).\n",
    "\n",
    "Il faudra donc que, <b>si on déclare deux entiers <i>long</i> et <i>larg</i>, le programme soit capable d'afficher les images avec le bon nombre de colonnes et lignes</b>. On mmodifiera également le code html pour obtenir des images de tailles choisies (plus petites) et non de la taille originale de l'image."
   ]
  },
  {
   "cell_type": "code",
   "execution_count": 1,
   "metadata": {},
   "outputs": [],
   "source": [
    "#include \"xwidgets/xbox.hpp\"\n",
    "#include \"xwidgets/xhtml.hpp\"\n",
    "typedef xw::hbox hbox; \n",
    "typedef xw::vbox vbox;\n",
    "\n",
    "int lon = 3;\n",
    "int hau = 2;\n",
    "\n",
    "// On créer manuellement notre tableau 2x2, non utile dans ce block de code\n",
    "std::vector<std::vector<xw::html>> tableau_html;\n",
    "tableau_html = std::vector<std::vector<xw::html>>(hau);\n",
    "for (int i = 0 ; i < hau ; i++) {\n",
    "tableau_html[i] = std::vector<xw::html>(lon);\n",
    "}"
   ]
  },
  {
   "cell_type": "code",
   "execution_count": 2,
   "metadata": {},
   "outputs": [],
   "source": [
    "// On déclare notre élément html qui contient l'image à copier\n",
    "xw::html html_img;\n",
    "html_img.value = R\"xhtml(\n",
    "    <img src=\"http://image.noelshack.com/fichiers/2018/04/6/1517040353-wall.png\">\n",
    "    )xhtml\";"
   ]
  },
  {
   "cell_type": "code",
   "execution_count": 3,
   "metadata": {},
   "outputs": [],
   "source": [
    "// Création de la hbox  de la bonne longueur via une fonction\n",
    "hbox createHbox (int lon) {\n",
    "    hbox hb_temp;\n",
    "    for (int j = 0 ; j < lon ; j++) {\n",
    "        hb_temp.add(html_img); \n",
    "    }\n",
    "    return hb_temp;\n",
    "}"
   ]
  },
  {
   "cell_type": "code",
   "execution_count": 4,
   "metadata": {},
   "outputs": [],
   "source": [
    "// Création de la hbox  de la bonne longueur via une fonction\n",
    "vbox createVbox (int lon, int hau) {\n",
    "    vbox vb_temp;\n",
    "    for (int i = 0 ; i < hau ; i++) {\n",
    "        vb_temp.add( createHbox(lon) ); \n",
    "    }\n",
    "    return vb_temp;\n",
    "}"
   ]
  },
  {
   "cell_type": "code",
   "execution_count": null,
   "metadata": {},
   "outputs": [],
   "source": [
    "/* Utilisation de la fonction précédente pour les tests\n",
    "hbox mybox;\n",
    "mybox = createHbox(lon);\n",
    " */\n",
    "\n",
    "// Creation et affichage de la vbox container\n",
    "vbox map_container;"
   ]
  },
  {
   "cell_type": "code",
   "execution_count": 10,
   "metadata": {},
   "outputs": [
    {
     "data": {
      "application/vnd.jupyter.widget-view+json": {
       "model_id": "0fed5cf5d50a4668bd0babf4d95ffe12",
       "version_major": 2,
       "version_minor": 0
      },
      "text/plain": [
       "A Jupyter widget"
      ]
     },
     "execution_count": 10,
     "metadata": {},
     "output_type": "execute_result"
    }
   ],
   "source": [
    "lon = 5;\n",
    "hau = 4;\n",
    "map_container = createVbox(lon, hau);\n",
    "\n",
    "map_container"
   ]
  },
  {
   "cell_type": "code",
   "execution_count": 12,
   "metadata": {},
   "outputs": [],
   "source": [
    "html_img.value = R\"xhtml(\n",
    "    <img src=\"http://nicolas.thiery.name/id.jpg\">\n",
    "    )xhtml\";"
   ]
  },
  {
   "cell_type": "markdown",
   "metadata": {},
   "source": [
    "## Plus besoin d'utiliser des tableaux de widgets HTML\n",
    "\n",
    "Maintenant que nous pouvons automatiquement créer une grille d'image de la bonne taille, nous allons voir comment choisir quelle image afficher. C'est là qu'intervient notre tableau 2D. Pour l'exemple, nous utiliserons un tableau 2D de <i>string</i>.\n",
    "\n",
    "Si la valeur du string est \"w\", il affichera l'image 1 (Wall), si c'est \"r\", il devra afficher l'image 2 (Rock) :<br>\n",
    "Image 1 : http://image.noelshack.com/fichiers/2018/04/6/1517040353-wall.png<br>\n",
    "Image 2 : http://image.noelshack.com/fichiers/2018/05/4/1517454006-rock.png"
   ]
  },
  {
   "cell_type": "code",
   "execution_count": 1,
   "metadata": {},
   "outputs": [],
   "source": [
    "#include \"xwidgets/xbox.hpp\"\n",
    "#include \"xwidgets/xhtml.hpp\"\n",
    "typedef xw::hbox hbox; \n",
    "typedef xw::vbox vbox;\n",
    "typedef std::vector<std::vector<std::string>> TabString;\n",
    "typedef std::vector<std::string> ListString;\n",
    "\n",
    "int lon = 2;\n",
    "int hau = 2;\n",
    "\n",
    "// On créer manuellement notre tableau 2x2 de string, qui devra être automatisé par la suite\n",
    "TabString tab_string;\n",
    "tab_string = std::vector<std::vector<std::string>>(hau);\n",
    "for (int i = 0 ; i < hau ; i++) {\n",
    "tab_string[i] = std::vector<std::string>(lon);\n",
    "}\n",
    "\n",
    "// On déclare nos différents éléments html (images) \n",
    "xw::html img_w;\n",
    "img_w.value = R\"xhtml(\n",
    "    <img src=\"http://image.noelshack.com/fichiers/2018/04/6/1517040353-wall.png\">\n",
    "    )xhtml\";\n",
    "\n",
    "xw::html img_r;\n",
    "img_r.value = R\"xhtml(\n",
    "    <img src=\"http://image.noelshack.com/fichiers/2018/05/4/1517454006-rock.png\">\n",
    "    )xhtml\";"
   ]
  },
  {
   "cell_type": "code",
   "execution_count": 2,
   "metadata": {},
   "outputs": [],
   "source": [
    "// Création de la hbox  de la bonne longueur via une fonction\n",
    "hbox createHbox (ListString tab) {\n",
    "    hbox hb_temp;\n",
    "    // Redéfinition de la largeur\n",
    "    int lon = tab.size();\n",
    "    \n",
    "    for (int j = 0 ; j < lon ; j++) {\n",
    "        if (tab[j] == \"w\")        \n",
    "            hb_temp.add(img_w);\n",
    "        else if (tab[j] == \"r\")\n",
    "            hb_temp.add(img_r);\n",
    "    }\n",
    "    return hb_temp;\n",
    "}"
   ]
  },
  {
   "cell_type": "code",
   "execution_count": 3,
   "metadata": {},
   "outputs": [],
   "source": [
    "// Création de la hbox  de la bonne longueur via une fonction\n",
    "vbox createVbox (TabString tab) {\n",
    "    vbox vb_temp;\n",
    "    // Redéfinition de la hauteur\n",
    "    int hau = tab.size();\n",
    "\n",
    "    for (int i = 0 ; i < hau ; i++) {\n",
    "        vb_temp.add( createHbox(tab[i]) ); \n",
    "    }\n",
    "    return vb_temp;\n",
    "}"
   ]
  },
  {
   "cell_type": "code",
   "execution_count": 4,
   "metadata": {},
   "outputs": [
    {
     "data": {
      "application/vnd.jupyter.widget-view+json": {
       "model_id": "f82f56d47bd64cbdb614df6648c4e97d",
       "version_major": 2,
       "version_minor": 0
      },
      "text/plain": [
       "A Jupyter widget"
      ]
     },
     "metadata": {},
     "output_type": "display_data"
    }
   ],
   "source": [
    "/* Utilisation de la fonction précédente pour les tests\n",
    "hbox mybox;\n",
    "mybox = createHbox(lon);\n",
    " */\n",
    "\n",
    "// Creation et affichage de la vbox container\n",
    "vbox map_container;\n",
    "\n",
    "// Modification possible des valeurs pour observer les changements\n",
    "tab_string[0][0] = \"w\";\n",
    "tab_string[0][1] = \"r\";\n",
    "tab_string[1][0] = \"r\";\n",
    "tab_string[1][1] = \"w\";\n",
    "map_container = createVbox(tab_string);\n",
    "map_container.display();"
   ]
  },
  {
   "cell_type": "code",
   "execution_count": 5,
   "metadata": {},
   "outputs": [
    {
     "data": {
      "text/plain": [
       "\"r\""
      ]
     },
     "execution_count": 5,
     "metadata": {},
     "output_type": "execute_result"
    }
   ],
   "source": [
    "tab_string[0][0] = \"r\""
   ]
  },
  {
   "cell_type": "markdown",
   "metadata": {},
   "source": [
    "En se basant sur ce modèle, nous pourrons construire un programme qui contient toutes les images possibles (on en compte 11), il faudra donc créer 11 widgets modèles html. Il faudra également insérer les 11 possibilités dans la fonction createHbox (en supposant que le tableau ne contient que des valeurs correctes). On va également appliquer un style aux images pour qu'elles soient plus petites (38px de côté me semble bien)."
   ]
  },
  {
   "cell_type": "code",
   "execution_count": null,
   "metadata": {},
   "outputs": [],
   "source": [
    "#include \"xwidgets/xbox.hpp\"\n",
    "#include \"xwidgets/xhtml.hpp\"\n",
    "typedef xw::hbox hbox; \n",
    "typedef xw::vbox vbox;\n",
    "typedef std::vector<std::vector<std::string>> TabString;\n",
    "typedef std::vector<std::string> ListString;\n",
    "\n",
    "// On change la valeur de lon de 2 à 3 pour changer de l'exemple précédent\n",
    "int lon = 3;\n",
    "int hau = 2;\n",
    "\n",
    "// En supposant que les int lon et hau seront fourni par le fichier Niveau\n",
    "TabString tab_string;\n",
    "tab_string = std::vector<std::vector<std::string>>(hau);\n",
    "for (int i = 0 ; i < hau ; i++) {\n",
    "tab_string[i] = std::vector<std::string>(lon);\n",
    "}\n",
    "\n",
    "// On déclare nos différents éléments html (images) \n",
    "xw::html img_w;\n",
    "img_w.value = R\"xhtml(\n",
    "    <img src=\"http://image.noelshack.com/fichiers/2018/04/6/1517040353-wall.png\"\n",
    "    height=\"38\"\n",
    "    width=\"38\" >\n",
    "    )xhtml\";\n",
    "xw::html img_r;\n",
    "img_r.value = R\"xhtml(\n",
    "    <img \n",
    "    src=\"http://image.noelshack.com/fichiers/2018/05/4/1517454006-rock.png\"\n",
    "    height=\"38\"\n",
    "    width=\"38\" >\n",
    "    )xhtml\";\n",
    "\n",
    "// Liste à compléter une fois les images herbergées au bon emplacement"
   ]
  },
  {
   "cell_type": "code",
   "execution_count": null,
   "metadata": {},
   "outputs": [],
   "source": [
    "// Création de la hbox contenant les bonnes images via une fonction\n",
    "hbox createHbox (ListString tab) {\n",
    "    hbox hb_temp;\n",
    "    // Redéfinition de la largeur\n",
    "    int lon = tab.size();\n",
    "    \n",
    "    for (int j = 0 ; j < lon ; j++) {\n",
    "        if (tab[j] == \"w\")        \n",
    "            hb_temp.add(img_w);\n",
    "        else if (tab[j] == \"r\")\n",
    "            hb_temp.add(img_r);\n",
    "    }\n",
    "    return hb_temp;\n",
    "}"
   ]
  },
  {
   "cell_type": "code",
   "execution_count": null,
   "metadata": {},
   "outputs": [],
   "source": [
    "// Création de la hbox  de la bonne longueur via une fonction\n",
    "vbox createVbox (TabString tab) {\n",
    "    vbox vb_temp;\n",
    "    // Redéfinition de la hauteur\n",
    "    int hau = tab.size();\n",
    "\n",
    "    for (int i = 0 ; i < hau ; i++) {\n",
    "        vb_temp.add( createHbox(tab[i]) ); \n",
    "    }\n",
    "    return vb_temp;\n",
    "}"
   ]
  },
  {
   "cell_type": "code",
   "execution_count": null,
   "metadata": {},
   "outputs": [],
   "source": [
    "// Creation et affichage de la vbox container\n",
    "vbox map_container;\n",
    "\n",
    "// Modification possible des valeurs pour observer les changements\n",
    "tab_string[0][0] = \"w\";\n",
    "tab_string[0][1] = \"r\";\n",
    "tab_string[0][2] = \"w\";\n",
    "tab_string[1][0] = \"r\";\n",
    "tab_string[1][1] = \"w\";\n",
    "tab_string[1][2] = \"r\";\n",
    "map_container = createVbox(tab_string);\n",
    "map_container.display();"
   ]
  },
  {
   "cell_type": "markdown",
   "metadata": {},
   "source": [
    "<div id=\"correct_code_bottom_page\"> \n",
    "<!-- Code qui permet de faire un lien qui amène directement ici depuis le haut de la page-->\n",
    "\n",
    "# Code plus approprié \n",
    "\n",
    "Je réécris le code bilan, qui contient des commentaires appropriés (et en anglais). On écriera une partie du code afin de créer un tableau 2D et l'initialiser manuellement, qui sera par la suite créer à partir des fichiers de niveaux (cf l'autre feuille du Jupyter sur le sujet).\n",
    "\n",
    "<i>Pour remonter tout en haut de la page, <a href=\"#comeback_to_the_top\" style=\"color:#da0e0e\">cliquez ici</a>. </i>"
   ]
  },
  {
   "cell_type": "code",
   "execution_count": null,
   "metadata": {},
   "outputs": [],
   "source": [
    "#include \"xwidgets/xbox.hpp\"\n",
    "#include \"xwidgets/xhtml.hpp\"\n",
    "typedef xw::hbox hbox; \n",
    "typedef xw::vbox vbox;\n",
    "typedef std::vector<std::vector<std::string>> TabString;\n",
    "typedef std::vector<std::string> ListString;\n",
    "\n",
    "// All of those informations will be giver by the level file in the future\n",
    "int lon = 3;\n",
    "int hau = 2;\n",
    "\n",
    "TabString tab_string;\n",
    "tab_string = std::vector<std::vector<std::string>>(hau);\n",
    "for (int i = 0 ; i < hau ; i++) {\n",
    "    tab_string[i] = std::vector<std::string>(lon);\n",
    "}\n",
    "\n",
    "tab_string[0][0] = \"w\";\n",
    "tab_string[0][1] = \"r\";\n",
    "tab_string[0][2] = \"w\";\n",
    "tab_string[1][0] = \"r\";\n",
    "tab_string[1][1] = \"w\";\n",
    "tab_string[1][2] = \"r\";\n",
    "\n",
    "\n",
    "// Initializing html widgets that we will use in createHbox function \n",
    "xw::html img_w;\n",
    "img_w.value = R\"xhtml(\n",
    "    <img src=\"http://image.noelshack.com/fichiers/2018/04/6/1517040353-wall.png\"\n",
    "    height=\"38\"\n",
    "    width=\"38\" >\n",
    "    )xhtml\";\n",
    "xw::html img_r;\n",
    "img_r.value = R\"xhtml(\n",
    "    <img \n",
    "    src=\"http://image.noelshack.com/fichiers/2018/05/4/1517454006-rock.png\"\n",
    "    height=\"38\"\n",
    "    width=\"38\" >\n",
    "    )xhtml\";\n",
    "// ...\n",
    "// List to be completed when the images will be hosted at the right location"
   ]
  },
  {
   "cell_type": "code",
   "execution_count": null,
   "metadata": {},
   "outputs": [],
   "source": [
    "/** Create a hbox widget that contains images, which corresponds to a line of our grid, with a vector\n",
    " * @param tab, a vector<string> that indicate wich images to display\n",
    " * @return hb_temp, a hbox that contain the images\n",
    "**/\n",
    "hbox createHbox (ListString tab) {\n",
    "    hbox hb_temp;\n",
    "    // Define the width called \"lon\"\n",
    "    int lon = tab.size();\n",
    "    \n",
    "    for (int j = 0 ; j < lon ; j++) {\n",
    "        if (tab[j] == \"w\")        \n",
    "            hb_temp.add(img_w);\n",
    "        else if (tab[j] == \"r\")\n",
    "            hb_temp.add(img_r);\n",
    "    }\n",
    "    return hb_temp;\n",
    "}"
   ]
  },
  {
   "cell_type": "code",
   "execution_count": null,
   "metadata": {},
   "outputs": [],
   "source": [
    "/** Create a vbox widget that contains hbox, which corresponds to our level grid\n",
    " * @param tab, a vector<vector<string>> that indicate wich images to display\n",
    " * @return hb_temp, a hbox that contains all the images of our level grid\n",
    "**/\n",
    "vbox createVbox (TabString tab) {\n",
    "    vbox vb_temp;\n",
    "    // Define the height called \"hau\"\n",
    "    int hau = tab.size();\n",
    "\n",
    "    for (int i = 0 ; i < hau ; i++) {\n",
    "        vb_temp.add( createHbox(tab[i]) ); \n",
    "    }\n",
    "    return vb_temp;\n",
    "}"
   ]
  },
  {
   "cell_type": "code",
   "execution_count": null,
   "metadata": {},
   "outputs": [],
   "source": [
    "// Déclaration of the map_container, our level grid\n",
    "vbox map_container;\n",
    "\n",
    "// Initialisation and display of the map_container\n",
    "map_container = createVbox(tab_string);\n",
    "map_container.display();"
   ]
  },
  {
   "cell_type": "markdown",
   "metadata": {},
   "source": []
  }
 ],
 "metadata": {
  "kernelspec": {
   "display_name": "C++14",
   "language": "C++14",
   "name": "xeus-cling-cpp14"
  },
  "language_info": {
   "codemirror_mode": "text/x-c++src",
   "file_extension": ".cpp",
   "mimetype": "text/x-c++src",
   "name": "c++",
   "version": "14"
  }
 },
 "nbformat": 4,
 "nbformat_minor": 2
}
