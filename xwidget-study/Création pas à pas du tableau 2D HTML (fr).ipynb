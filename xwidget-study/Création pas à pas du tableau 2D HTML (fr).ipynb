{
 "cells": [
  {
   "cell_type": "markdown",
   "metadata": {},
   "source": [
    "# Problème de création d'un tableau 2D contenant du HTML\n",
    "\n",
    "Il me parait impossible de créer un tableau 2D ( vector<vector<html>> ). Voici l'erreur que j'obtiens : <br>\n",
    "http://image.noelshack.com/fichiers/2018/04/7/1517161444-temp.png . <br>\n",
    "    <i> EDIT : L'erreur a été résolue par la suite </i>\n",
    "\n",
    "Voilà ma procédure (que je lance via binder) "
   ]
  },
  {
   "cell_type": "markdown",
   "metadata": {},
   "source": [
    "## Premièrement, je lance des essais avec des int.\n",
    "Je me fais des fonctions qui créer un tableau de taille 5x8, qui rempli ce tableau avec des (int)2, sauf la première case ( t[0][0] ) qui qui vaut 4. J'affiche ensuite le tableau, puis la première ligne, puis la première cellule. Voilà le résultat : <br>\n",
    "http://image.noelshack.com/fichiers/2018/04/7/1517161608-temp.png"
   ]
  },
  {
   "cell_type": "markdown",
   "metadata": {},
   "source": [
    "## Des essais avec un tableau \"1D\"\n",
    "\n",
    "Par la suite, je lance les 3 cellules Jupyter du HTML widget. Juste en dessous de ces 3 cases, je me créer un tableau de 3 cases, où j'insère du code dans la première. Voilà le résultat : <br>\n",
    "http://image.noelshack.com/fichiers/2018/04/7/1517161858-temp.png"
   ]
  },
  {
   "cell_type": "markdown",
   "metadata": {},
   "source": [
    "## Essais avec le tableau 2D HTML\n",
    "\n",
    "Après avoir relancé le kernel, et lancé les mêmes cellules de code, je n'obtiens plus les erreurs ... Les erreurs ont spontannément disparu? Code ci-dessous."
   ]
  },
  {
   "cell_type": "code",
   "execution_count": null,
   "metadata": {
    "collapsed": true
   },
   "outputs": [],
   "source": [
    "std::vector<std::vector<xw::html>> tableau_html;\n",
    "tableau_html = std::vector<std::vector<xw::html>>(2);"
   ]
  },
  {
   "cell_type": "code",
   "execution_count": null,
   "metadata": {
    "collapsed": true
   },
   "outputs": [],
   "source": [
    "tableau_html[0] = std::vector<xw::html>(2);\n",
    "tableau_html[1] = std::vector<xw::html>(2);\n",
    "/* Affichage du tableau */\n",
    "tableau_html"
   ]
  },
  {
   "cell_type": "code",
   "execution_count": null,
   "metadata": {
    "collapsed": true
   },
   "outputs": [],
   "source": [
    "tableau_html[0][0].value = R\"xhtml(\n",
    "    <div style=\"\n",
    "        width: 80px;\n",
    "        height: 100px;\n",
    "        background: #323;\n",
    "        color: white;\n",
    "        text-align: center;\"\n",
    "        >Some HTML\n",
    "    </div>\n",
    ")xhtml\";\n",
    "/* Affichage de la première case dans laquelle on vient de mettre du code*/\n",
    "tableau_html[0][0].display();"
   ]
  },
  {
   "cell_type": "markdown",
   "metadata": {},
   "source": [
    "## Insérer une balise img via un objet html externe au tableau\n",
    "\n",
    "On va d'abord créer un objet html que l'on va appeler html_img et qui contiendra une image. On va ensuite créer notre tableau comme précédemment, et insérer l'image dans chaque case en utilisant l'objet externe."
   ]
  },
  {
   "cell_type": "code",
   "execution_count": null,
   "metadata": {
    "collapsed": true
   },
   "outputs": [],
   "source": [
    "xw::html html_img;\n",
    "html_img.value = R\"xhtml(\n",
    "    <img src=\"http://image.noelshack.com/fichiers/2018/04/6/1517040353-wall.png\">\n",
    ")xhtml\";"
   ]
  },
  {
   "cell_type": "code",
   "execution_count": null,
   "metadata": {
    "collapsed": true
   },
   "outputs": [],
   "source": [
    "// On créer manuellement notre tableau 2x2\n",
    "std::vector<std::vector<xw::html>> tableau_html;\n",
    "tableau_html = std::vector<std::vector<xw::html>>(2);\n",
    "tableau_html[0] = std::vector<xw::html>(2);\n",
    "tableau_html[1] = std::vector<xw::html>(2);"
   ]
  },
  {
   "cell_type": "code",
   "execution_count": null,
   "metadata": {
    "collapsed": true
   },
   "outputs": [],
   "source": [
    "// On insère le même code dans les 4 cases, soit l'image\n",
    "tableau_html[0][0] = html_img;\n",
    "tableau_html[0][1] = html_img;\n",
    "tableau_html[1][0] = html_img;\n",
    "tableau_html[1][1] = html_img;"
   ]
  },
  {
   "cell_type": "markdown",
   "metadata": {},
   "source": [
    "# Problème d'affichage\n",
    "\n",
    "Je suis parvenu à créer un tableau 2D dont chaque case contient une image HTML, cependant lors de l'affichage, chaque case se positionne sous la précéddente. C'est dû au fait que le notebook considère chaque Display comme un nouvel Output. Et impossible de changer cela via le code html/css, puisque ça ne relève pas du widget, mais bien de jupyter ... Bloqué ?\n",
    "\n",
    "Commandes pour afficher les images unes à unes :"
   ]
  },
  {
   "cell_type": "code",
   "execution_count": null,
   "metadata": {
    "collapsed": true
   },
   "outputs": [],
   "source": [
    "tableau_html[0][0].display();\n",
    "tableau_html[0][1].display();\n",
    "tableau_html[1][0].display();\n",
    "tableau_html[1][1].display();"
   ]
  },
  {
   "cell_type": "markdown",
   "metadata": {},
   "source": [
    "## Piste de résolution de l'affichaque des img en ligne\n",
    "\n",
    "Après relecture des widgets, on voit qu'il est possible de \"sortir\" plusieurs widgets en un seul output. Pour cela nous utiliserons le widget appelé une \"box\".\n",
    "\n",
    "Voilà comment utiliser ce widget : <br>\n",
    "Si on considère b notre box, et le tableau_html utilisé précédemment, alors :"
   ]
  },
  {
   "cell_type": "code",
   "execution_count": 1,
   "metadata": {},
   "outputs": [
    {
     "data": {
      "application/vnd.jupyter.widget-view+json": {
       "model_id": "f505377292944ae181c097f49bf33396",
       "version_major": 2,
       "version_minor": 0
      },
      "text/plain": [
       "A Jupyter widget"
      ]
     },
     "metadata": {},
     "output_type": "display_data"
    }
   ],
   "source": [
    "#include \"xwidgets/xbox.hpp\"\n",
    "#include \"xwidgets/xhtml.hpp\"\n",
    "\n",
    "// On créer manuellement notre tableau 2x2\n",
    "std::vector<std::vector<xw::html>> tableau_html;\n",
    "tableau_html = std::vector<std::vector<xw::html>>(2);\n",
    "tableau_html[0] = std::vector<xw::html>(2);\n",
    "tableau_html[1] = std::vector<xw::html>(2);\n",
    "\n",
    "// On créer notre box et on change le code html pour lui affecter un style\n",
    "xw::vbox b;\n",
    "xw::html html_img;\n",
    "html_img.value = R\"xhtml(\n",
    "    <img src=\"http://image.noelshack.com/fichiers/2018/04/6/1517040353-wall.png\" style=\"display:inline-block;\">\n",
    "    )xhtml\";\n",
    "\n",
    "// On insère le même code dans les 4 cases, soit l'image\n",
    "tableau_html[0][0] = html_img;\n",
    "tableau_html[0][1] = html_img;\n",
    "tableau_html[1][0] = html_img;\n",
    "tableau_html[1][1] = html_img;\n",
    "\n",
    "//on ajoute les cases du tableau dans la box\n",
    "b.add(tableau_html[0][0]);\n",
    "b.add(tableau_html[0][1]);\n",
    "b.add(tableau_html[1][0]);\n",
    "b.add(tableau_html[1][1]);\n",
    "\n",
    "//On affiche la box\n",
    "b.display();"
   ]
  },
  {
   "cell_type": "code",
   "execution_count": 2,
   "metadata": {},
   "outputs": [
    {
     "data": {
      "application/vnd.jupyter.widget-view+json": {
       "model_id": "c655f1c3dc1e42598f94e7d76502d682",
       "version_major": 2,
       "version_minor": 0
      },
      "text/plain": [
       "A Jupyter widget"
      ]
     },
     "metadata": {},
     "output_type": "display_data"
    }
   ],
   "source": [
    "xw::hbox hb;\n",
    "hb.add(tableau_html[0][0]);\n",
    "hb.add(tableau_html[0][1]);\n",
    "hb.add(tableau_html[1][0]);\n",
    "hb.add(tableau_html[1][1]);\n",
    "hb.display()\n"
   ]
  },
  {
   "cell_type": "markdown",
   "metadata": {},
   "source": [
    "## Toujours le même problème d'affichage... \n",
    "\n",
    "Les widgets HTML ne peuvent se mettre cotes à cotes, même dans une box. Et ce parce que le code html, lorsqu'il sort dans le Output, est inséré dans une div. Lorsqu'on insère donc plusieurs Html Widgets dans une même box, ils vont chacun sortir de façon indépendante. Impossible donc de les aligner en leur donnant un style. On retombe sur le même problème...\n",
    "\n",
    "Nouvelle piste de résolution : <br>\n",
    "Les widgets button ne sont pas affichés dans des div, peut-être sont-ils alignables ?"
   ]
  },
  {
   "cell_type": "code",
   "execution_count": null,
   "metadata": {
    "collapsed": true
   },
   "outputs": [],
   "source": []
  }
 ],
 "metadata": {
  "kernelspec": {
   "display_name": "xeus C++14",
   "language": "",
   "name": "xeus-cling-cpp14"
  },
  "language_info": {
   "codemirror_mode": "text/x-c++src",
   "file_extension": ".cpp",
   "mimetype": "text/x-c++src",
   "name": "c++",
   "version": ""
  }
 },
 "nbformat": 4,
 "nbformat_minor": 2
}
