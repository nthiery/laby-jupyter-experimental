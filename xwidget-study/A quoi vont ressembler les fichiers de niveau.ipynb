{
 "cells": [
  {
   "cell_type": "markdown",
   "metadata": {},
   "source": [
    "# Etude des fichiers niveaux\n",
    "\n",
    "Nous verrons dans cette feuille comment contenir toutes les informations nécessaires à la création d'une grille-niveau de Laby intégrée en C++ sur Jupyter."
   ]
  },
  {
   "cell_type": "markdown",
   "metadata": {},
   "source": [
    "## Un modèle pour fichiers niveaux\n",
    "\n",
    "Si l'on imagine que les niveaux seront tirés d'un fichier externe, qu'il sera donc possible de se créer soit-même ses niveaux, il faut que les fichiers contiennent plusieurs choses :\n",
    "\n",
    "- Possibilité d'insérer un commentaire\n",
    "- Valeurs de Longeur et largeur \n",
    "- une grille de lettre correspondant aux différentes cases que l'on souhaite pour notre niveau\n",
    "\n",
    "Le fichier pourrait se présenter de la forme suivante :"
   ]
  },
  {
   "cell_type": "code",
   "execution_count": null,
   "metadata": {},
   "outputs": [],
   "source": [
    "On peut insérer un commentaire de la taille que l on veut ici.\n",
    "StopComm\n",
    "3 2\n",
    " w r r\n",
    " r w w"
   ]
  },
  {
   "cell_type": "markdown",
   "metadata": {},
   "source": [
    "On aurait aller un fichier qui affiche tout ce qui se trouve avant \"StopComm\" en tant que commentaire (dans une textbox par exemple). Il ferait donc 3 de largeur et 2 de hauteur."
   ]
  },
  {
   "cell_type": "code",
   "execution_count": null,
   "metadata": {},
   "outputs": [],
   "source": []
  }
 ],
 "metadata": {
  "kernelspec": {
   "display_name": "xeus C++14",
   "language": "",
   "name": "xeus-cling-cpp14"
  },
  "language_info": {
   "codemirror_mode": "text/x-c++src",
   "file_extension": ".cpp",
   "mimetype": "text/x-c++src",
   "name": "c++",
   "version": ""
  }
 },
 "nbformat": 4,
 "nbformat_minor": 2
}
