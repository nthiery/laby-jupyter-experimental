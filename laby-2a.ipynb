{
 "cells": [
  {
   "cell_type": "code",
   "execution_count": 1,
   "metadata": {},
   "outputs": [
    {
     "data": {
      "application/vnd.jupyter.widget-view+json": {
       "model_id": "c16f26aac40641bdbb01c10f845141bb",
       "version_major": 2,
       "version_minor": 0
      },
      "text/plain": [
       "A Jupyter widget"
      ]
     },
     "metadata": {},
     "output_type": "display_data"
    },
    {
     "name": "stdout",
     "output_type": "stream",
     "text": [
      "slider change: \n",
      "setting fps: 4\n",
      "slider change: \n",
      "setting fps: 8\n",
      "slider change: \n",
      "setting fps: 16\n",
      "slider change: \n",
      "setting fps: 8\n",
      "slider change: \n",
      "setting fps: 4\n",
      "slider change: \n",
      "setting fps: 2\n",
      "slider change: \n",
      "setting fps: 1\n",
      "slider change: \n",
      "setting fps: 2\n",
      "slider change: \n",
      "setting fps: 4\n",
      "slider change: \n",
      "setting fps: 8\n",
      "slider change: \n",
      "setting fps: 16\n",
      "slider change: \n",
      "setting fps: 8\n",
      "slider change: \n",
      "setting fps: 4\n",
      "slider change: \n",
      "setting fps: 2\n",
      "slider change: \n",
      "setting fps: 4\n",
      "slider change: \n",
      "setting fps: 8\n",
      "slider change: \n",
      "setting fps: 16\n",
      "slider change: \n",
      "setting fps: 32\n",
      "slider change: \n",
      "setting fps: 64\n",
      "slider change: \n",
      "setting fps: 32\n",
      "slider change: \n",
      "setting fps: 16\n",
      "slider change: \n",
      "setting fps: 8\n",
      "slider change: \n",
      "setting fps: 4\n",
      "slider change: \n",
      "setting fps: 2\n",
      "slider change: \n",
      "setting fps: 1\n",
      "slider change: \n",
      "setting fps: 2\n",
      "slider change: \n",
      "setting fps: 4\n",
      "slider change: \n",
      "setting fps: 8\n",
      "slider change: \n",
      "setting fps: 16\n",
      "slider change: \n",
      "setting fps: 32\n"
     ]
    }
   ],
   "source": [
    "#include \"laby-widget.hpp\"\n",
    "LABY(\"2a\")"
   ]
  },
  {
   "cell_type": "code",
   "execution_count": 2,
   "metadata": {},
   "outputs": [],
   "source": [
    "while ( regarde() == Vide ) {\n",
    "    avance();\n",
    "}\n",
    "ouvre();"
   ]
  },
  {
   "cell_type": "code",
   "execution_count": 2,
   "metadata": {},
   "outputs": [],
   "source": [
    "pose();"
   ]
  },
  {
   "cell_type": "code",
   "execution_count": null,
   "metadata": {},
   "outputs": [],
   "source": []
  }
 ],
 "metadata": {
  "kernelspec": {
   "display_name": "C++17",
   "language": "C++17",
   "name": "xcpp17"
  },
  "language_info": {
   "codemirror_mode": "text/x-c++src",
   "file_extension": ".cpp",
   "mimetype": "text/x-c++src",
   "name": "c++",
   "version": "-std=c++17"
  }
 },
 "nbformat": 4,
 "nbformat_minor": 2
}
