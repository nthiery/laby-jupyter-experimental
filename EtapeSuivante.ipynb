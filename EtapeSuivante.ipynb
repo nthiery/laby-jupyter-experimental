{
 "cells": [
  {
   "cell_type": "code",
   "execution_count": null,
   "metadata": {},
   "outputs": [],
   "source": [
    "typedef char cellule;"
   ]
  },
  {
   "cell_type": "code",
   "execution_count": null,
   "metadata": {},
   "outputs": [],
   "source": [
    "const cellule Toile = 'W';"
   ]
  },
  {
   "cell_type": "code",
   "execution_count": null,
   "metadata": {},
   "outputs": [],
   "source": [
    "const cellule Caillou = 'R';"
   ]
  },
  {
   "cell_type": "code",
   "execution_count": null,
   "metadata": {},
   "outputs": [],
   "source": [
    "#include <vector>\n",
    "using namespace std;"
   ]
  },
  {
   "cell_type": "code",
   "execution_count": null,
   "metadata": {},
   "outputs": [],
   "source": [
    "typedef vector<vector<cellule>> Labyrinthe;"
   ]
  },
  {
   "cell_type": "code",
   "execution_count": null,
   "metadata": {},
   "outputs": [],
   "source": [
    "// Voir hashmap en C++\n",
    "hashmap<cellule, string> images = { Caillou: 'caillou.png',\n",
    "           ...\n",
    "         }"
   ]
  },
  {
   "cell_type": "code",
   "execution_count": null,
   "metadata": {},
   "outputs": [],
   "source": [
    "Labyrinthe labyrinthe = {{ Mur, Mur, Mur},\n",
    "              { Caillou, Mur, ...}\n",
    "             };"
   ]
  },
  {
   "cell_type": "code",
   "execution_count": null,
   "metadata": {},
   "outputs": [],
   "source": [
    "struct VueLabyrinthe {\n",
    "    Labyrinthe &labyrinthe;\n",
    "    xw::vbox vbox;\n",
    "}\n",
    "VueLabyrinthe ConstruitVueLabyrinthe(Labyrinthe &labyrinthe) {\n",
    "    vbox =  // Construction du VBox de HBox de la bonne taille\n",
    "    VueLabyrinthe vue = { labyrinthe, vbox };// Initialisation de la struct\n",
    "    update(vue);\n",
    "    return vue;\n",
    "}"
   ]
  },
  {
   "cell_type": "code",
   "execution_count": null,
   "metadata": {},
   "outputs": [],
   "source": [
    "update(VueLabyrinthe &vue_labyrinthe) {\n",
    "    // Parcourt le labyrinthe et met à jour la vue avec la bonne image par case\n",
    "}"
   ]
  },
  {
   "cell_type": "code",
   "execution_count": null,
   "metadata": {},
   "outputs": [],
   "source": [
    "VueLabyrinthe vue = ConstruitVueLabyrinthe(labyrinthe);\n",
    "vue.vbox // Affiche le widget"
   ]
  },
  {
   "cell_type": "code",
   "execution_count": null,
   "metadata": {},
   "outputs": [],
   "source": [
    "labyrinthe[3][2] = \"R\";\n",
    "update(vue);"
   ]
  },
  {
   "cell_type": "markdown",
   "metadata": {},
   "source": [
    "Étape suivante: en faire une classe (au sens programmation objet)"
   ]
  },
  {
   "cell_type": "code",
   "execution_count": null,
   "metadata": {},
   "outputs": [],
   "source": []
  }
 ],
 "metadata": {
  "kernelspec": {
   "display_name": "C++11",
   "language": "C++11",
   "name": "xeus-cling-cpp11"
  },
  "language_info": {
   "codemirror_mode": "text/x-c++src",
   "file_extension": ".cpp",
   "mimetype": "text/x-c++src",
   "name": "c++",
   "version": "11"
  }
 },
 "nbformat": 4,
 "nbformat_minor": 2
}
