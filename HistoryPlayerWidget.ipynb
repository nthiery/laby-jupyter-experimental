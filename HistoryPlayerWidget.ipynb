{
 "cells": [
  {
   "cell_type": "markdown",
   "metadata": {},
   "source": [
    "# A value history player widget\n",
    "\n",
    "Consider a value widget `w`.\n",
    "Player(`w`) wraps this widget to maintain a history of all the values that have been assigned to it.\n",
    "In addition, it adds controls analogous to those of audio/video/... players to\n",
    "replay that history."
   ]
  },
  {
   "cell_type": "code",
   "execution_count": 1,
   "metadata": {},
   "outputs": [],
   "source": [
    "from ipywidgets import HBox, VBox, Button, Text, Layout, Output, IntSlider, Label\n",
    "import traitlets\n",
    "import threading, queue, os, time"
   ]
  },
  {
   "cell_type": "markdown",
   "metadata": {},
   "source": [
    "Current bug: when playing at the end while new values are being produced, the current clock can't be cancelled\n",
    "GIL issue?"
   ]
  },
  {
   "cell_type": "code",
   "execution_count": 2,
   "metadata": {},
   "outputs": [],
   "source": [
    "class Clock(threading.Thread):\n",
    "    \"\"\"\n",
    "    Execute a command every x seconds\n",
    "    \"\"\"\n",
    "    def __init__(self, delay, command):\n",
    "        self.cancelled = False\n",
    "        self.delay = delay\n",
    "        self.command = command\n",
    "        threading.Thread.__init__(self)\n",
    "\n",
    "    def run(self):\n",
    "        while not self.cancelled:\n",
    "            print(\"Running command\")\n",
    "            if self.command():\n",
    "                time.sleep(self.delay)\n",
    "            else:\n",
    "                self.cancel()\n",
    "            \n",
    "    def cancel(self):\n",
    "        print(\"canceling\")\n",
    "        self.cancelled = True"
   ]
  },
  {
   "cell_type": "code",
   "execution_count": 3,
   "metadata": {},
   "outputs": [],
   "source": [
    "class PlayerModel:\n",
    "    def __init__(self, view, controler):\n",
    "        # Invariant: -1 <= time <= len(history) -1\n",
    "        # If time <> -1, history[time] is the currently displayed value\n",
    "        self._view = view\n",
    "        self._controler = controler\n",
    "        self._clock = None\n",
    "        self._finished = False\n",
    "        self.reset()\n",
    "        self.play()\n",
    "    \n",
    "    def reset(self):\n",
    "        self.stop()\n",
    "        self._new_values = queue.Queue(maxsize=1)\n",
    "        self._history = []\n",
    "        self._time = -1\n",
    "        self._direction = 1\n",
    "        self._speed = 1\n",
    "\n",
    "    def update(self):\n",
    "        self._view.value = self._history[self._time]\n",
    "        self._controler._frame.value = str(self._time)\n",
    "   \n",
    "    def set_value(self, value):\n",
    "        self._new_values.put(value)\n",
    "    \n",
    "    def stop(self):\n",
    "        #print(\"stop\", self._clock)\n",
    "        if self._clock:\n",
    "            self._clock.cancel()\n",
    "            self._clock = None\n",
    "\n",
    "    def begin(self):\n",
    "        self.stop()\n",
    "        assert self._history\n",
    "        self._time = 0\n",
    "        self.update()\n",
    "\n",
    "    def end(self):\n",
    "        # Could trigger a clock if not finished\n",
    "        self.stop()\n",
    "        self._time = len(self._history) - 1\n",
    "        self.update()\n",
    "\n",
    "    def step_backward(self):\n",
    "        self.stop()\n",
    "        self.step(direction=-1)\n",
    "\n",
    "    def step_forward(self):\n",
    "        self.stop()\n",
    "        self.step(direction=1)\n",
    "\n",
    "    def step(self, direction=1):\n",
    "        if direction < 0:\n",
    "            if self._time > 0:\n",
    "                self._time -= 1;\n",
    "                self.update()\n",
    "                return True\n",
    "        else:\n",
    "            assert self._time < len(self._history)\n",
    "            while self._time == len(self._history) - 1:\n",
    "                if self._finished:\n",
    "                    return False\n",
    "                try:\n",
    "                    self._history.append(self._new_values.get(timeout=1))\n",
    "                    break\n",
    "                except queue.Empty:\n",
    "                    pass\n",
    "            assert self._time < len(self._history) - 1\n",
    "            self._time += 1\n",
    "            self.update()\n",
    "            return True\n",
    "\n",
    "    def play(self, direction=None):\n",
    "        self.stop()\n",
    "        if direction is None:\n",
    "            direction = self._direction\n",
    "        else:\n",
    "            self._direction = direction\n",
    "        self._clock = Clock(abs(1./self._speed), lambda: self.step(direction))\n",
    "        self._clock.start()\n",
    "        \n",
    "    def set_speed(self, speed):\n",
    "        self._speed = 2**speed\n",
    "        if self._clock: # Restart the clock\n",
    "            self.play()"
   ]
  },
  {
   "cell_type": "code",
   "execution_count": 4,
   "metadata": {},
   "outputs": [],
   "source": [
    "class Player(VBox):\n",
    "    value = traitlets.Any()\n",
    "    def __init__(self, view):\n",
    "        model = PlayerModel(view, self)\n",
    "        self._model = model\n",
    "        \n",
    "        layout  = Layout(width=\"initial\")\n",
    "        step_backward = Button(tooltip=\"Step backward\", icon=\"step-backward\", layout=layout)\n",
    "        step_forward  = Button(tooltip=\"Step forward\",  icon=\"step-forward\",  layout=layout)\n",
    "        begin         = Button(tooltip=\"Begin\",         icon=\"fast-backward\", layout=layout)\n",
    "        end           = Button(tooltip=\"End\",           icon=\"fast-forward\",  layout=layout)\n",
    "        backward      = Button(tooltip=\"Play backward\", icon=\"backward\",      layout=layout)\n",
    "        play          = Button(tooltip=\"Play\",          icon=\"play\",          layout=layout)\n",
    "        pause         = Button(tooltip=\"Pause\",         icon=\"pause\",         layout=layout)\n",
    "        \n",
    "        step_backward.on_click(lambda button: model.step_backward())\n",
    "        step_forward .on_click(lambda button: model.step_forward())\n",
    "        begin        .on_click(lambda button: model.begin())\n",
    "        end          .on_click(lambda button: model.end())\n",
    "        play         .on_click(lambda button: model.play(1))\n",
    "        backward     .on_click(lambda button: model.play(-1))\n",
    "        pause        .on_click(lambda button: model.stop())\n",
    "        frame_label = Label(\"frame: \")\n",
    "        frame = Label(\"\")\n",
    "        self._frame = frame\n",
    "        speed_label = Label(\"speed: \")\n",
    "        speed_slider = IntSlider(0,0,10,1)\n",
    "        speed_slider.observe(lambda slider: model.set_speed(speed_slider.value))\n",
    "        controller = HBox([begin, backward, step_backward, pause, play, step_forward, end, frame_label, frame, speed_label, speed_slider])\n",
    "        VBox.__init__(self, [view, controller])\n",
    "    \n",
    "    @traitlets.observe(\"value\")\n",
    "    def value_changed(self, change):\n",
    "        self._model.set_value(change.new)"
   ]
  },
  {
   "cell_type": "code",
   "execution_count": 5,
   "metadata": {},
   "outputs": [
    {
     "name": "stdout",
     "output_type": "stream",
     "text": [
      "Running command\n"
     ]
    },
    {
     "data": {
      "application/vnd.jupyter.widget-view+json": {
       "model_id": "fa54aeca683049e8a0bae5ce91cbee5a",
       "version_major": 2,
       "version_minor": 0
      },
      "text/plain": [
       "Player(children=(Text(value=''), HBox(children=(Button(icon='fast-backward', layout=Layout(width='initial'), s…"
      ]
     },
     "metadata": {},
     "output_type": "display_data"
    }
   ],
   "source": [
    "w = Text()\n",
    "p = Player(w)\n",
    "p"
   ]
  },
  {
   "cell_type": "code",
   "execution_count": null,
   "metadata": {},
   "outputs": [],
   "source": [
    "p.value = \"9\""
   ]
  },
  {
   "cell_type": "code",
   "execution_count": null,
   "metadata": {},
   "outputs": [
    {
     "name": "stdout",
     "output_type": "stream",
     "text": [
      "0\n",
      "1\n",
      "2\n"
     ]
    }
   ],
   "source": [
    "for i in range(10):\n",
    "    #\n",
    "    print(i)\n",
    "    p.value = str(i)"
   ]
  },
  {
   "cell_type": "code",
   "execution_count": 13,
   "metadata": {},
   "outputs": [
    {
     "name": "stdout",
     "output_type": "stream",
     "text": [
      "stop None\n",
      "stop None\n"
     ]
    },
    {
     "data": {
      "application/vnd.jupyter.widget-view+json": {
       "model_id": "4e2a8076b0ef41ec949c7658196de5b2",
       "version_major": 2,
       "version_minor": 0
      },
      "text/plain": [
       "Player(children=(Text(value=''), HBox(children=(Button(icon='fast-backward', layout=Layout(width='initial'), s…"
      ]
     },
     "metadata": {},
     "output_type": "display_data"
    },
    {
     "name": "stdout",
     "output_type": "stream",
     "text": [
      "stop <Clock(Thread-8, started 140167373375232)>\n",
      "stop <Clock(Thread-9, started 140167364982528)>\n",
      "stop <Clock(Thread-10, started 140167356589824)>\n",
      "stop <Clock(Thread-11, started 140167348197120)>\n",
      "stop <Clock(Thread-12, started 140166861682432)>\n",
      "stop <Clock(Thread-13, started 140166853289728)>\n",
      "stop <Clock(Thread-14, started 140166844897024)>\n",
      "stop <Clock(Thread-15, stopped 140166861682432)>\n",
      "stop <Clock(Thread-16, started 140166844897024)>\n",
      "stop <Clock(Thread-17, started 140166861682432)>\n",
      "stop <Clock(Thread-18, started 140166853289728)>\n",
      "stop <Clock(Thread-19, started 140167348197120)>\n"
     ]
    }
   ],
   "source": [
    "p = Player(Text())\n",
    "def mysort(l):\n",
    "    p.value = str(l)\n",
    "    for i in range(len(l)):\n",
    "        for j in range(i, 0, -1):\n",
    "            if l[j-1] <= l[j]:\n",
    "                break\n",
    "            l[j-1], l[j] = l[j], l[j-1]\n",
    "            p.value = str(l)\n",
    "    return l\n",
    "p"
   ]
  },
  {
   "cell_type": "code",
   "execution_count": 14,
   "metadata": {},
   "outputs": [
    {
     "data": {
      "text/plain": [
       "[1, 2, 3, 4, 5, 6]"
      ]
     },
     "execution_count": 14,
     "metadata": {},
     "output_type": "execute_result"
    }
   ],
   "source": [
    "mysort([6,5,4,3,2,1])"
   ]
  },
  {
   "cell_type": "code",
   "execution_count": 18,
   "metadata": {},
   "outputs": [],
   "source": [
    "p._model._clock"
   ]
  },
  {
   "cell_type": "code",
   "execution_count": null,
   "metadata": {},
   "outputs": [],
   "source": []
  }
 ],
 "metadata": {
  "kernelspec": {
   "display_name": "Python 3",
   "language": "python",
   "name": "python3"
  },
  "language_info": {
   "codemirror_mode": {
    "name": "ipython",
    "version": 3
   },
   "file_extension": ".py",
   "mimetype": "text/x-python",
   "name": "python",
   "nbconvert_exporter": "python",
   "pygments_lexer": "ipython3",
   "version": "3.6.7"
  }
 },
 "nbformat": 4,
 "nbformat_minor": 2
}
