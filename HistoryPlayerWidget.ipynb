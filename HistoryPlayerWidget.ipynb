{
 "cells": [
  {
   "cell_type": "markdown",
   "metadata": {},
   "source": [
    "# A value history player widget\n",
    "\n",
    "Consider a value widget `w`.\n",
    "Player(`w`) wraps this widget to maintain a history of all the values that have been assigned to it.\n",
    "In addition, it adds controls analogous to those of audio/video/... players to\n",
    "replay that history."
   ]
  },
  {
   "cell_type": "code",
   "execution_count": 2,
   "metadata": {},
   "outputs": [],
   "source": [
    "%run HistoryPlayerWidget.py"
   ]
  },
  {
   "cell_type": "markdown",
   "metadata": {},
   "source": [
    "Current bug: when playing at the end while new values are being produced, the current clock can't be cancelled\n",
    "GIL issue?"
   ]
  },
  {
   "cell_type": "code",
   "execution_count": 3,
   "metadata": {
    "scrolled": false
   },
   "outputs": [
    {
     "data": {
      "application/vnd.jupyter.widget-view+json": {
       "model_id": "c90504cf002c4c40bbd22f9f31c7090b",
       "version_major": 2,
       "version_minor": 0
      },
      "text/plain": [
       "Player(children=(Text(value=''), HBox(children=(Button(icon='fast-backward', layout=Layout(width='initial'), s…"
      ]
     },
     "metadata": {},
     "output_type": "display_data"
    },
    {
     "name": "stdout",
     "output_type": "stream",
     "text": [
      "Running command step 1\n",
      "consumed new value\n",
      "Running command step 1\n",
      "consuming new value timed out; time: 0 / 1\n",
      "consuming new value timed out; time: 0 / 1\n",
      "consuming new value timed out; time: 0 / 1\n",
      "consuming new value timed out; time: 0 / 1\n",
      "consuming new value timed out; time: 0 / 1\n",
      "canceling\n",
      "step_backward\n",
      "step_backward done\n",
      "step_backward\n",
      "step_backward done\n",
      "step_backward\n",
      "step_backward done\n"
     ]
    }
   ],
   "source": [
    "w = Text()\n",
    "p = Player(w)\n",
    "p"
   ]
  },
  {
   "cell_type": "code",
   "execution_count": 4,
   "metadata": {},
   "outputs": [],
   "source": [
    "p.value = \"9\""
   ]
  },
  {
   "cell_type": "code",
   "execution_count": 5,
   "metadata": {},
   "outputs": [
    {
     "name": "stdout",
     "output_type": "stream",
     "text": [
      "0\n",
      "1\n",
      "consumed new value\n",
      "2\n",
      "Running command step 1\n",
      "consumed new value\n",
      "3\n",
      "Running command step 1\n",
      "consumed new value4\n",
      "\n",
      "Running command step 1\n",
      "consumed new value\n",
      "5\n",
      "Running command step 1\n",
      "consumed new value\n",
      "6\n",
      "Running command step 1\n",
      "consumed new value\n",
      "7\n",
      "Running command step 1\n",
      "consumed new value\n",
      "8\n",
      "Running command step 1\n",
      "consumed new value9\n",
      "\n",
      "Running command step 1\n",
      "consumed new value\n"
     ]
    }
   ],
   "source": [
    "for i in range(10):\n",
    "    #\n",
    "    print(i)\n",
    "    p.value = str(i**2)"
   ]
  },
  {
   "cell_type": "code",
   "execution_count": 8,
   "metadata": {},
   "outputs": [
    {
     "name": "stdout",
     "output_type": "stream",
     "text": [
      "Running command step 1\n"
     ]
    },
    {
     "data": {
      "application/vnd.jupyter.widget-view+json": {
       "model_id": "23c0796297a54b58b736decf693a1c22",
       "version_major": 2,
       "version_minor": 0
      },
      "text/plain": [
       "Player(children=(Text(value=''), HBox(children=(Button(icon='fast-backward', layout=Layout(width='initial'), s…"
      ]
     },
     "metadata": {},
     "output_type": "display_data"
    }
   ],
   "source": [
    "p = Player(Text())\n",
    "def mysort(l):\n",
    "    p.value = str(l)\n",
    "    for i in range(len(l)):\n",
    "        for j in range(i, 0, -1):\n",
    "            if l[j-1] <= l[j]:\n",
    "                break\n",
    "            l[j-1], l[j] = l[j], l[j-1]\n",
    "            p.value = str(l)\n",
    "    return l\n",
    "p"
   ]
  },
  {
   "cell_type": "code",
   "execution_count": 9,
   "metadata": {},
   "outputs": [
    {
     "name": "stdout",
     "output_type": "stream",
     "text": [
      "Running command\n",
      "Running command\n",
      "Running command\n",
      "Running command\n",
      "Running command\n",
      "Running command\n",
      "Running command\n",
      "Running command\n",
      "Running command\n",
      "Running command\n",
      "Running command\n",
      "Running command\n",
      "Running command\n",
      "Running command\n"
     ]
    },
    {
     "data": {
      "text/plain": [
       "[1, 2, 3, 4, 5, 6]"
      ]
     },
     "execution_count": 9,
     "metadata": {},
     "output_type": "execute_result"
    }
   ],
   "source": [
    "mysort([6,5,4,3,2,1])"
   ]
  },
  {
   "cell_type": "code",
   "execution_count": 18,
   "metadata": {},
   "outputs": [],
   "source": [
    "p._model._clock"
   ]
  },
  {
   "cell_type": "code",
   "execution_count": null,
   "metadata": {},
   "outputs": [],
   "source": []
  }
 ],
 "metadata": {
  "kernelspec": {
   "display_name": "Python 3",
   "language": "python",
   "name": "python3"
  },
  "language_info": {
   "codemirror_mode": {
    "name": "ipython",
    "version": 3
   },
   "file_extension": ".py",
   "mimetype": "text/x-python",
   "name": "python",
   "nbconvert_exporter": "python",
   "pygments_lexer": "ipython3",
   "version": "3.6.7"
  }
 },
 "nbformat": 4,
 "nbformat_minor": 2
}
